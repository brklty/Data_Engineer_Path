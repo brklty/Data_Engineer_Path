{
 "cells": [
  {
   "cell_type": "code",
   "execution_count": 1,
   "metadata": {},
   "outputs": [],
   "source": [
    "import findspark"
   ]
  },
  {
   "cell_type": "code",
   "execution_count": 2,
   "metadata": {},
   "outputs": [],
   "source": [
    "findspark.init(\"/opt/manual/spark/\")"
   ]
  },
  {
   "cell_type": "code",
   "execution_count": 3,
   "metadata": {},
   "outputs": [],
   "source": [
    "from pyspark.sql import SparkSession, functions as F\n",
    "from pyspark.sql.types import *"
   ]
  },
  {
   "cell_type": "code",
   "execution_count": 4,
   "metadata": {},
   "outputs": [],
   "source": [
    "spark = (SparkSession.builder\n",
    "        .appName(\"udf\")\n",
    "        .master(\"local[2]\")\n",
    "         .getOrCreate()     \n",
    "        \n",
    "        ) "
   ]
  },
  {
   "cell_type": "code",
   "execution_count": 5,
   "metadata": {},
   "outputs": [],
   "source": [
    "df = spark.read \\\n",
    ".option(\"header\", True) \\\n",
    ".option(\"inferSchema\", True) \\\n",
    ".option(\"compression\", \"gzip\") \\\n",
    ".csv(\"file:///home/train/datasets/Hotel_Reviews.csv.gz\")\n"
   ]
  },
  {
   "cell_type": "code",
   "execution_count": 8,
   "metadata": {},
   "outputs": [],
   "source": [
    "df2 = df.withColumn(\"Tags\", \n",
    "                    F.split(F.col(\"Tags\"),\",\")\n",
    "                   .cast(ArrayType(StringType()))) \\\n",
    ".withColumn(\"Review_Date\",F.to_date(F.col(\"Review_Date\"),\"M/d/yyyy\"))"
   ]
  },
  {
   "cell_type": "code",
   "execution_count": 9,
   "metadata": {},
   "outputs": [],
   "source": [
    "# create function\n",
    "\n",
    "def upper_case(x):\n",
    "    return x.upper()"
   ]
  },
  {
   "cell_type": "code",
   "execution_count": 10,
   "metadata": {},
   "outputs": [
    {
     "data": {
      "text/plain": [
       "'HELLO'"
      ]
     },
     "execution_count": 10,
     "metadata": {},
     "output_type": "execute_result"
    }
   ],
   "source": [
    "upper_case(\"hello\")"
   ]
  },
  {
   "cell_type": "code",
   "execution_count": 12,
   "metadata": {},
   "outputs": [],
   "source": [
    "#format\n",
    "# spark.udf.register(name,f,returnType=none)\n",
    "\n",
    "from pyspark.sql.types import StringType\n",
    "\n",
    "upper_case_udf = spark.udf.register(\"upper_case\", upper_case)"
   ]
  },
  {
   "cell_type": "code",
   "execution_count": 13,
   "metadata": {},
   "outputs": [
    {
     "name": "stdout",
     "output_type": "stream",
     "text": [
      "+----------------------+\n",
      "|upper_case(Hotel_name)|\n",
      "+----------------------+\n",
      "|           HOTEL ARENA|\n",
      "|           HOTEL ARENA|\n",
      "|           HOTEL ARENA|\n",
      "|           HOTEL ARENA|\n",
      "+----------------------+\n",
      "only showing top 4 rows\n",
      "\n"
     ]
    }
   ],
   "source": [
    "df2.select(upper_case_udf(\"Hotel_name\")).show(4)"
   ]
  },
  {
   "cell_type": "code",
   "execution_count": 14,
   "metadata": {},
   "outputs": [],
   "source": [
    "# UDF in multiple cols\n",
    "\n",
    "# Hotel_name, Reviewer_Nationality\n",
    "\n",
    "def hotel_and_country(hotel,country):\n",
    "    return \"{} - {}\".format(hotel,country)"
   ]
  },
  {
   "cell_type": "code",
   "execution_count": 15,
   "metadata": {},
   "outputs": [],
   "source": [
    "hotel_and_country_udf = spark.udf.register(\"hotel_and_country\",hotel_and_country, StringType())"
   ]
  },
  {
   "cell_type": "code",
   "execution_count": 16,
   "metadata": {},
   "outputs": [
    {
     "name": "stdout",
     "output_type": "stream",
     "text": [
      "+---------------------------------------------------+\n",
      "|hotel_and_country(Hotel_name, Reviewer_Nationality)|\n",
      "+---------------------------------------------------+\n",
      "|Hotel Arena -  Russia                              |\n",
      "|Hotel Arena -  Ireland                             |\n",
      "|Hotel Arena -  Australia                           |\n",
      "|Hotel Arena -  United Kingdom                      |\n",
      "+---------------------------------------------------+\n",
      "only showing top 4 rows\n",
      "\n"
     ]
    }
   ],
   "source": [
    "df2.select(hotel_and_country_udf(\"Hotel_name\", \"Reviewer_Nationality\")).show(n=4, truncate=False)"
   ]
  },
  {
   "cell_type": "code",
   "execution_count": 17,
   "metadata": {},
   "outputs": [
    {
     "name": "stderr",
     "output_type": "stream",
     "text": [
      "/usr/lib64/python3.6/importlib/_bootstrap.py:219: RuntimeWarning: numpy.ufunc size changed, may indicate binary incompatibility. Expected 192 from C header, got 216 from PyObject\n",
      "  return f(*args, **kwds)\n"
     ]
    }
   ],
   "source": [
    "#to Pandas df\n",
    "# F.pandas_udf(f, returnType)\n",
    "\n",
    "import pandas as pd"
   ]
  },
  {
   "cell_type": "code",
   "execution_count": 18,
   "metadata": {},
   "outputs": [],
   "source": [
    "def pd_hotel_and_country(hotel:pd.Series,country:pd.Series) -> pd.Series:\n",
    "    return hotel + ' ' + country"
   ]
  },
  {
   "cell_type": "code",
   "execution_count": 23,
   "metadata": {},
   "outputs": [],
   "source": [
    "pd_hotel_and_country_udf = F.pandas_udf(pd_hotel_and_country, StringType())"
   ]
  },
  {
   "cell_type": "code",
   "execution_count": 24,
   "metadata": {},
   "outputs": [
    {
     "name": "stdout",
     "output_type": "stream",
     "text": [
      "+------------------------------------------------------+\n",
      "|pd_hotel_and_country(Hotel_name, Reviewer_Nationality)|\n",
      "+------------------------------------------------------+\n",
      "|Hotel Arena  Russia                                   |\n",
      "|Hotel Arena  Ireland                                  |\n",
      "|Hotel Arena  Australia                                |\n",
      "|Hotel Arena  United Kingdom                           |\n",
      "+------------------------------------------------------+\n",
      "only showing top 4 rows\n",
      "\n"
     ]
    }
   ],
   "source": [
    "df2.select(pd_hotel_and_country_udf(\"Hotel_name\",\"Reviewer_Nationality\")).show(n=4,truncate=False)"
   ]
  },
  {
   "cell_type": "code",
   "execution_count": 25,
   "metadata": {},
   "outputs": [],
   "source": [
    "spark.stop()"
   ]
  },
  {
   "cell_type": "code",
   "execution_count": null,
   "metadata": {},
   "outputs": [],
   "source": []
  }
 ],
 "metadata": {
  "kernelspec": {
   "display_name": "venvspark",
   "language": "python",
   "name": "venvspark"
  },
  "language_info": {
   "codemirror_mode": {
    "name": "ipython",
    "version": 3
   },
   "file_extension": ".py",
   "mimetype": "text/x-python",
   "name": "python",
   "nbconvert_exporter": "python",
   "pygments_lexer": "ipython3",
   "version": "3.6.8"
  }
 },
 "nbformat": 4,
 "nbformat_minor": 4
}
