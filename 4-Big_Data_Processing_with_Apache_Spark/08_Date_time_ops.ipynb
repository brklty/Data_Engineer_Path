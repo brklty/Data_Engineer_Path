{
 "cells": [
  {
   "cell_type": "code",
   "execution_count": 1,
   "metadata": {},
   "outputs": [],
   "source": [
    "import findspark"
   ]
  },
  {
   "cell_type": "code",
   "execution_count": 2,
   "metadata": {},
   "outputs": [],
   "source": [
    "findspark.init(\"/opt/manual/spark/\")"
   ]
  },
  {
   "cell_type": "code",
   "execution_count": 3,
   "metadata": {},
   "outputs": [],
   "source": [
    "from pyspark.sql import SparkSession, functions as F\n",
    "from pyspark.sql.types import *"
   ]
  },
  {
   "cell_type": "code",
   "execution_count": 4,
   "metadata": {},
   "outputs": [],
   "source": [
    "spark = (SparkSession.builder\n",
    "        .appName(\"udf\")\n",
    "        .master(\"local[2]\")\n",
    "         .getOrCreate()     \n",
    "        \n",
    "        ) "
   ]
  },
  {
   "cell_type": "code",
   "execution_count": 7,
   "metadata": {},
   "outputs": [
    {
     "name": "stdout",
     "output_type": "stream",
     "text": [
      "--2023-08-14 15:29:07--  https://github.com/erkansirin78/datasets/raw/master/Fire_Incidents.csv.gz\n",
      "Resolving github.com (github.com)... 140.82.121.3\n",
      "Connecting to github.com (github.com)|140.82.121.3|:443... connected.\n",
      "HTTP request sent, awaiting response... 302 Found\n",
      "Location: https://raw.githubusercontent.com/erkansirin78/datasets/master/Fire_Incidents.csv.gz [following]\n",
      "--2023-08-14 15:29:07--  https://raw.githubusercontent.com/erkansirin78/datasets/master/Fire_Incidents.csv.gz\n",
      "Resolving raw.githubusercontent.com (raw.githubusercontent.com)... 185.199.108.133, 185.199.110.133, 185.199.111.133, ...\n",
      "Connecting to raw.githubusercontent.com (raw.githubusercontent.com)|185.199.108.133|:443... connected.\n",
      "HTTP request sent, awaiting response... 200 OK\n",
      "Length: 41002480 (39M) [application/octet-stream]\n",
      "Saving to: ‘/home/train/datasets/Fire_Incidents.csv.gz’\n",
      "\n",
      "100%[======================================>] 41,002,480  2.40MB/s   in 20s    \n",
      "\n",
      "2023-08-14 15:29:28 (1.91 MB/s) - ‘/home/train/datasets/Fire_Incidents.csv.gz’ saved [41002480/41002480]\n",
      "\n"
     ]
    }
   ],
   "source": [
    "! wget -P ~/datasets https://github.com/erkansirin78/datasets/raw/master/Fire_Incidents.csv.gz"
   ]
  },
  {
   "cell_type": "code",
   "execution_count": 8,
   "metadata": {},
   "outputs": [
    {
     "name": "stdout",
     "output_type": "stream",
     "text": [
      "201508_trip_data.csv  churn-telecom\t     Hotel_Reviews.csv.gz  u.data\r\n",
      "Advertising.csv       Fire_Incidents.csv.gz  iris.csv\t\t   u.item\r\n",
      "Churn_Modelling.csv   flo100k.csv\t     retail_db\t\t   Wine.csv\r\n"
     ]
    }
   ],
   "source": [
    "! ls ~/datasets"
   ]
  },
  {
   "cell_type": "code",
   "execution_count": 9,
   "metadata": {},
   "outputs": [],
   "source": [
    "df = spark.read \\\n",
    ".option(\"header\",True) \\\n",
    ".option(\"inferSchema\",True) \\\n",
    ".option(\"compression\",\"gzip\") \\\n",
    ".csv(\"file:///home/train/datasets/Fire_Incidents.csv.gz\")"
   ]
  },
  {
   "cell_type": "code",
   "execution_count": 10,
   "metadata": {},
   "outputs": [
    {
     "data": {
      "text/plain": [
       "533598"
      ]
     },
     "execution_count": 10,
     "metadata": {},
     "output_type": "execute_result"
    }
   ],
   "source": [
    "df.count()"
   ]
  },
  {
   "cell_type": "code",
   "execution_count": 11,
   "metadata": {},
   "outputs": [
    {
     "data": {
      "text/plain": [
       "80"
      ]
     },
     "execution_count": 11,
     "metadata": {},
     "output_type": "execute_result"
    }
   ],
   "source": [
    "len(df.columns)"
   ]
  },
  {
   "cell_type": "code",
   "execution_count": 23,
   "metadata": {},
   "outputs": [
    {
     "name": "stdout",
     "output_type": "stream",
     "text": [
      "+-------------+----------------------+----------------------+----------------------+\n",
      "|Incident Date|Alarm DtTm            |Arrival DtTm          |Close DtTm            |\n",
      "+-------------+----------------------+----------------------+----------------------+\n",
      "|06/05/2018   |06/05/2018 06:38:01 PM|06/05/2018 06:41:59 PM|06/05/2018 06:42:12 PM|\n",
      "|08/29/2019   |08/29/2019 08:09:25 PM|08/29/2019 08:11:54 PM|08/29/2019 08:12:24 PM|\n",
      "|06/14/2018   |06/14/2018 08:37:56 PM|06/14/2018 08:40:37 PM|06/14/2018 08:40:52 PM|\n",
      "|12/30/2005   |12/30/2005 10:40:27 PM|12/30/2005 10:46:33 PM|12/30/2005 11:37:23 PM|\n",
      "+-------------+----------------------+----------------------+----------------------+\n",
      "only showing top 4 rows\n",
      "\n"
     ]
    }
   ],
   "source": [
    "# date columns\n",
    "ts_cols = [\"Incident Date\", \"Alarm DtTm\", \"Arrival DtTm\", \"Close DtTm\"]\n",
    "df.select(ts_cols).show(n=4, truncate=False)"
   ]
  },
  {
   "cell_type": "code",
   "execution_count": 24,
   "metadata": {},
   "outputs": [
    {
     "name": "stdout",
     "output_type": "stream",
     "text": [
      "root\n",
      " |-- Incident Date: string (nullable = true)\n",
      " |-- Alarm DtTm: string (nullable = true)\n",
      " |-- Arrival DtTm: string (nullable = true)\n",
      " |-- Close DtTm: string (nullable = true)\n",
      "\n"
     ]
    }
   ],
   "source": [
    "df.select(ts_cols).printSchema()"
   ]
  },
  {
   "cell_type": "code",
   "execution_count": 27,
   "metadata": {},
   "outputs": [
    {
     "name": "stdout",
     "output_type": "stream",
     "text": [
      "+--------------------+\n",
      "|          Alarm DtTm|\n",
      "+--------------------+\n",
      "|06/05/2018 06:38:...|\n",
      "|08/29/2019 08:09:...|\n",
      "|06/14/2018 08:37:...|\n",
      "|12/30/2005 10:40:...|\n",
      "+--------------------+\n",
      "only showing top 4 rows\n",
      "\n"
     ]
    }
   ],
   "source": [
    "df.select(\"Alarm DtTm\").show(4)"
   ]
  },
  {
   "cell_type": "code",
   "execution_count": 28,
   "metadata": {},
   "outputs": [
    {
     "name": "stdout",
     "output_type": "stream",
     "text": [
      "+-------------+-------------------+----------------------+----------------------+\n",
      "|Incident Date|Alarm DtTm         |Arrival DtTm          |Close DtTm            |\n",
      "+-------------+-------------------+----------------------+----------------------+\n",
      "|06/05/2018   |2018-06-05 18:38:01|06/05/2018 06:41:59 PM|06/05/2018 06:42:12 PM|\n",
      "|08/29/2019   |2019-08-29 20:09:25|08/29/2019 08:11:54 PM|08/29/2019 08:12:24 PM|\n",
      "|06/14/2018   |2018-06-14 20:37:56|06/14/2018 08:40:37 PM|06/14/2018 08:40:52 PM|\n",
      "|12/30/2005   |2005-12-30 22:40:27|12/30/2005 10:46:33 PM|12/30/2005 11:37:23 PM|\n",
      "+-------------+-------------------+----------------------+----------------------+\n",
      "only showing top 4 rows\n",
      "\n"
     ]
    }
   ],
   "source": [
    "# from string to timestamp\n",
    "\n",
    "df.select(ts_cols).withColumn(\"Alarm DtTm\",F.to_timestamp(F.col(\"Alarm DtTm\"),\"MM/dd/yyyy hh:mm:ss a\")) \\\n",
    ".show(n=4, truncate=False)"
   ]
  },
  {
   "cell_type": "code",
   "execution_count": 29,
   "metadata": {},
   "outputs": [],
   "source": [
    "df2 = df.select(ts_cols).withColumn(\"Alarm DtTm\",F.to_timestamp(F.col(\"Alarm DtTm\"),\"MM/dd/yyyy hh:mm:ss a\")) "
   ]
  },
  {
   "cell_type": "code",
   "execution_count": 30,
   "metadata": {},
   "outputs": [
    {
     "name": "stdout",
     "output_type": "stream",
     "text": [
      "root\n",
      " |-- Incident Date: string (nullable = true)\n",
      " |-- Alarm DtTm: timestamp (nullable = true)\n",
      " |-- Arrival DtTm: string (nullable = true)\n",
      " |-- Close DtTm: string (nullable = true)\n",
      "\n"
     ]
    }
   ],
   "source": [
    "df2.printSchema()"
   ]
  },
  {
   "cell_type": "code",
   "execution_count": 31,
   "metadata": {},
   "outputs": [
    {
     "name": "stdout",
     "output_type": "stream",
     "text": [
      "+-------------+----------------------+----------------------+----------------------+-------------+\n",
      "|Incident Date|Alarm DtTm            |Arrival DtTm          |Close DtTm            |Alarm DtTm_Ut|\n",
      "+-------------+----------------------+----------------------+----------------------+-------------+\n",
      "|06/05/2018   |06/05/2018 06:38:01 PM|06/05/2018 06:41:59 PM|06/05/2018 06:42:12 PM|1528213081   |\n",
      "|08/29/2019   |08/29/2019 08:09:25 PM|08/29/2019 08:11:54 PM|08/29/2019 08:12:24 PM|1567098565   |\n",
      "|06/14/2018   |06/14/2018 08:37:56 PM|06/14/2018 08:40:37 PM|06/14/2018 08:40:52 PM|1528997876   |\n",
      "|12/30/2005   |12/30/2005 10:40:27 PM|12/30/2005 10:46:33 PM|12/30/2005 11:37:23 PM|1135975227   |\n",
      "+-------------+----------------------+----------------------+----------------------+-------------+\n",
      "only showing top 4 rows\n",
      "\n"
     ]
    }
   ],
   "source": [
    "# unix timestamp\n",
    "\n",
    "df.select(ts_cols).withColumn(\"Alarm DtTm_Ut\",F.unix_timestamp(F.col(\"Alarm DtTm\"),\"MM/dd/yyyy hh:mm:ss a\")).show(n=4, truncate=False)"
   ]
  },
  {
   "cell_type": "code",
   "execution_count": 32,
   "metadata": {},
   "outputs": [],
   "source": [
    "df3 = df.select(ts_cols).withColumn(\"Alarm DtTm_Ut\",F.unix_timestamp(F.col(\"Alarm DtTm\"),\"MM/dd/yyyy hh:mm:ss a\"))"
   ]
  },
  {
   "cell_type": "code",
   "execution_count": 33,
   "metadata": {},
   "outputs": [
    {
     "name": "stdout",
     "output_type": "stream",
     "text": [
      "+-------------+----------------------+----------------------+----------------------+-------------+-------------------+\n",
      "|Incident Date|Alarm DtTm            |Arrival DtTm          |Close DtTm            |Alarm DtTm_Ut|From_DtTm_Ut       |\n",
      "+-------------+----------------------+----------------------+----------------------+-------------+-------------------+\n",
      "|06/05/2018   |06/05/2018 06:38:01 PM|06/05/2018 06:41:59 PM|06/05/2018 06:42:12 PM|1528213081   |2018-06-05 18:38:01|\n",
      "|08/29/2019   |08/29/2019 08:09:25 PM|08/29/2019 08:11:54 PM|08/29/2019 08:12:24 PM|1567098565   |2019-08-29 20:09:25|\n",
      "|06/14/2018   |06/14/2018 08:37:56 PM|06/14/2018 08:40:37 PM|06/14/2018 08:40:52 PM|1528997876   |2018-06-14 20:37:56|\n",
      "|12/30/2005   |12/30/2005 10:40:27 PM|12/30/2005 10:46:33 PM|12/30/2005 11:37:23 PM|1135975227   |2005-12-30 22:40:27|\n",
      "+-------------+----------------------+----------------------+----------------------+-------------+-------------------+\n",
      "only showing top 4 rows\n",
      "\n"
     ]
    }
   ],
   "source": [
    "#from unix timestamp to timestamp\n",
    "\n",
    "df3.withColumn(\"From_DtTm_Ut\", F.to_timestamp(F.col(\"Alarm DtTm_Ut\"))).show(n=4, truncate=False)"
   ]
  },
  {
   "cell_type": "code",
   "execution_count": 34,
   "metadata": {},
   "outputs": [],
   "source": [
    "df4 = df3.withColumn(\"From_DtTm_Ut\", F.to_timestamp(F.col(\"Alarm DtTm_Ut\")))"
   ]
  },
  {
   "cell_type": "code",
   "execution_count": 35,
   "metadata": {},
   "outputs": [
    {
     "name": "stdout",
     "output_type": "stream",
     "text": [
      "root\n",
      " |-- Incident Date: string (nullable = true)\n",
      " |-- Alarm DtTm: string (nullable = true)\n",
      " |-- Arrival DtTm: string (nullable = true)\n",
      " |-- Close DtTm: string (nullable = true)\n",
      " |-- Alarm DtTm_Ut: long (nullable = true)\n",
      " |-- From_DtTm_Ut: timestamp (nullable = true)\n",
      "\n"
     ]
    }
   ],
   "source": [
    "df4.printSchema()"
   ]
  },
  {
   "cell_type": "code",
   "execution_count": 37,
   "metadata": {},
   "outputs": [
    {
     "name": "stdout",
     "output_type": "stream",
     "text": [
      "+-------------+----------------------+----------------------+----------------------+----------------------------+\n",
      "|Incident Date|Alarm DtTm            |Arrival DtTm          |Close DtTm            |Incident_Date_to_Date_Format|\n",
      "+-------------+----------------------+----------------------+----------------------+----------------------------+\n",
      "|06/05/2018   |06/05/2018 06:38:01 PM|06/05/2018 06:41:59 PM|06/05/2018 06:42:12 PM|2018-06-05                  |\n",
      "|08/29/2019   |08/29/2019 08:09:25 PM|08/29/2019 08:11:54 PM|08/29/2019 08:12:24 PM|2019-08-29                  |\n",
      "|06/14/2018   |06/14/2018 08:37:56 PM|06/14/2018 08:40:37 PM|06/14/2018 08:40:52 PM|2018-06-14                  |\n",
      "|12/30/2005   |12/30/2005 10:40:27 PM|12/30/2005 10:46:33 PM|12/30/2005 11:37:23 PM|2005-12-30                  |\n",
      "+-------------+----------------------+----------------------+----------------------+----------------------------+\n",
      "only showing top 4 rows\n",
      "\n"
     ]
    }
   ],
   "source": [
    "# from string to date and Date Format\n",
    "\n",
    "df.select(ts_cols).withColumn(\"Incident_Date_to_Date_Format\", F.to_date(F.col(\"Incident Date\"),\"MM/dd/yyyy\")).show(n=4, truncate=False)"
   ]
  },
  {
   "cell_type": "code",
   "execution_count": 42,
   "metadata": {},
   "outputs": [],
   "source": [
    "df5 = df.select(ts_cols).withColumn(\"Incident_Date_D\", F.to_date(F.col(\"Incident Date\"),\"MM/dd/yyyy\"))"
   ]
  },
  {
   "cell_type": "code",
   "execution_count": 43,
   "metadata": {},
   "outputs": [
    {
     "name": "stdout",
     "output_type": "stream",
     "text": [
      "root\n",
      " |-- Incident Date: string (nullable = true)\n",
      " |-- Alarm DtTm: string (nullable = true)\n",
      " |-- Arrival DtTm: string (nullable = true)\n",
      " |-- Close DtTm: string (nullable = true)\n",
      " |-- Incident_Date_D: date (nullable = true)\n",
      "\n"
     ]
    }
   ],
   "source": [
    "df5.printSchema()"
   ]
  },
  {
   "cell_type": "code",
   "execution_count": 45,
   "metadata": {},
   "outputs": [
    {
     "name": "stdout",
     "output_type": "stream",
     "text": [
      "+-------------+----------------------+----------------------+----------------------+----------------+\n",
      "|Incident Date|Alarm DtTm            |Arrival DtTm          |Close DtTm            |Incident_Date_D |\n",
      "+-------------+----------------------+----------------------+----------------------+----------------+\n",
      "|06/05/2018   |06/05/2018 06:38:01 PM|06/05/2018 06:41:59 PM|06/05/2018 06:42:12 PM|2018:06:05 00:00|\n",
      "|08/29/2019   |08/29/2019 08:09:25 PM|08/29/2019 08:11:54 PM|08/29/2019 08:12:24 PM|2019:08:29 00:00|\n",
      "|06/14/2018   |06/14/2018 08:37:56 PM|06/14/2018 08:40:37 PM|06/14/2018 08:40:52 PM|2018:06:14 00:00|\n",
      "|12/30/2005   |12/30/2005 10:40:27 PM|12/30/2005 10:46:33 PM|12/30/2005 11:37:23 PM|2005:12:30 00:00|\n",
      "+-------------+----------------------+----------------------+----------------------+----------------+\n",
      "only showing top 4 rows\n",
      "\n"
     ]
    }
   ],
   "source": [
    "df5.withColumn(\"Incident_Date_D\", F.date_format(F.col(\"Incident_Date_D\"),\"yyyy:MM:dd HH:ss\")).show(n=4, truncate=False)"
   ]
  },
  {
   "cell_type": "code",
   "execution_count": 46,
   "metadata": {},
   "outputs": [
    {
     "name": "stdout",
     "output_type": "stream",
     "text": [
      "+-------------+----------------------+----------------------+----------------------+----------------+\n",
      "|Incident Date|Alarm DtTm            |Arrival DtTm          |Close DtTm            |Incident_Date_D |\n",
      "+-------------+----------------------+----------------------+----------------------+----------------+\n",
      "|06/05/2018   |06/05/2018 06:38:01 PM|06/05/2018 06:41:59 PM|06/05/2018 06:42:12 PM|2018-06-05 00:00|\n",
      "|08/29/2019   |08/29/2019 08:09:25 PM|08/29/2019 08:11:54 PM|08/29/2019 08:12:24 PM|2019-08-29 00:00|\n",
      "|06/14/2018   |06/14/2018 08:37:56 PM|06/14/2018 08:40:37 PM|06/14/2018 08:40:52 PM|2018-06-14 00:00|\n",
      "|12/30/2005   |12/30/2005 10:40:27 PM|12/30/2005 10:46:33 PM|12/30/2005 11:37:23 PM|2005-12-30 00:00|\n",
      "+-------------+----------------------+----------------------+----------------------+----------------+\n",
      "only showing top 4 rows\n",
      "\n"
     ]
    }
   ],
   "source": [
    "df5.withColumn(\"Incident_Date_D\", F.date_format(F.col(\"Incident_Date_D\"),\"yyyy-MM-dd HH:ss\")).show(n=4, truncate=False)"
   ]
  },
  {
   "cell_type": "code",
   "execution_count": 47,
   "metadata": {},
   "outputs": [],
   "source": [
    "# get year from ts\n",
    "\n",
    "df2 = df.select(ts_cols).withColumn(\"Alarm DtTm\", F.to_timestamp(F.col(\"Alarm DtTm\"),\"MM/dd/yyyy hh:mm:ss a\"))"
   ]
  },
  {
   "cell_type": "code",
   "execution_count": 49,
   "metadata": {},
   "outputs": [
    {
     "name": "stdout",
     "output_type": "stream",
     "text": [
      "+-------------+-------------------+----------------------+----------------------+----------+\n",
      "|Incident Date|Alarm DtTm         |Arrival DtTm          |Close DtTm            |Alarm_year|\n",
      "+-------------+-------------------+----------------------+----------------------+----------+\n",
      "|06/05/2018   |2018-06-05 18:38:01|06/05/2018 06:41:59 PM|06/05/2018 06:42:12 PM|2018      |\n",
      "|08/29/2019   |2019-08-29 20:09:25|08/29/2019 08:11:54 PM|08/29/2019 08:12:24 PM|2019      |\n",
      "|06/14/2018   |2018-06-14 20:37:56|06/14/2018 08:40:37 PM|06/14/2018 08:40:52 PM|2018      |\n",
      "|12/30/2005   |2005-12-30 22:40:27|12/30/2005 10:46:33 PM|12/30/2005 11:37:23 PM|2005      |\n",
      "+-------------+-------------------+----------------------+----------------------+----------+\n",
      "only showing top 4 rows\n",
      "\n"
     ]
    }
   ],
   "source": [
    "df3 = df2.withColumn(\"Alarm_year\", F.year(F.col(\"Alarm DtTm\")))\n",
    "df3.show(n=4,truncate=False)"
   ]
  },
  {
   "cell_type": "code",
   "execution_count": 50,
   "metadata": {},
   "outputs": [
    {
     "name": "stdout",
     "output_type": "stream",
     "text": [
      "+-------------+-------------------+----------------------+----------------------+-----------+\n",
      "|Incident Date|Alarm DtTm         |Arrival DtTm          |Close DtTm            |Alarm_month|\n",
      "+-------------+-------------------+----------------------+----------------------+-----------+\n",
      "|06/05/2018   |2018-06-05 18:38:01|06/05/2018 06:41:59 PM|06/05/2018 06:42:12 PM|6          |\n",
      "|08/29/2019   |2019-08-29 20:09:25|08/29/2019 08:11:54 PM|08/29/2019 08:12:24 PM|8          |\n",
      "|06/14/2018   |2018-06-14 20:37:56|06/14/2018 08:40:37 PM|06/14/2018 08:40:52 PM|6          |\n",
      "|12/30/2005   |2005-12-30 22:40:27|12/30/2005 10:46:33 PM|12/30/2005 11:37:23 PM|12         |\n",
      "+-------------+-------------------+----------------------+----------------------+-----------+\n",
      "only showing top 4 rows\n",
      "\n"
     ]
    }
   ],
   "source": [
    "# get month from ts\n",
    "\n",
    "df4 = df2.withColumn(\"Alarm_month\", F.month(F.col(\"Alarm DtTm\")))\n",
    "df4.show(n=4,truncate=False)"
   ]
  },
  {
   "cell_type": "code",
   "execution_count": 51,
   "metadata": {},
   "outputs": [
    {
     "name": "stdout",
     "output_type": "stream",
     "text": [
      "+-------------+-------------------+----------------------+----------------------+-----------+\n",
      "|Incident Date|Alarm DtTm         |Arrival DtTm          |Close DtTm            |Alarm_month|\n",
      "+-------------+-------------------+----------------------+----------------------+-----------+\n",
      "|06/05/2018   |2018-06-05 18:38:01|06/05/2018 06:41:59 PM|06/05/2018 06:42:12 PM|5          |\n",
      "|08/29/2019   |2019-08-29 20:09:25|08/29/2019 08:11:54 PM|08/29/2019 08:12:24 PM|29         |\n",
      "|06/14/2018   |2018-06-14 20:37:56|06/14/2018 08:40:37 PM|06/14/2018 08:40:52 PM|14         |\n",
      "|12/30/2005   |2005-12-30 22:40:27|12/30/2005 10:46:33 PM|12/30/2005 11:37:23 PM|30         |\n",
      "+-------------+-------------------+----------------------+----------------------+-----------+\n",
      "only showing top 4 rows\n",
      "\n"
     ]
    }
   ],
   "source": [
    "# get day of month\n",
    "df5 = df2.withColumn(\"Alarm_month\", F.dayofmonth(F.col(\"Alarm DtTm\")))\n",
    "df5.show(n=4,truncate=False)"
   ]
  },
  {
   "cell_type": "code",
   "execution_count": 52,
   "metadata": {},
   "outputs": [
    {
     "name": "stdout",
     "output_type": "stream",
     "text": [
      "+-------------+-------------------+----------------------+----------------------+-----------+\n",
      "|Incident Date|Alarm DtTm         |Arrival DtTm          |Close DtTm            |Alarm_month|\n",
      "+-------------+-------------------+----------------------+----------------------+-----------+\n",
      "|06/05/2018   |2018-06-05 18:38:01|06/05/2018 06:41:59 PM|06/05/2018 06:42:12 PM|Tue        |\n",
      "|08/29/2019   |2019-08-29 20:09:25|08/29/2019 08:11:54 PM|08/29/2019 08:12:24 PM|Thu        |\n",
      "|06/14/2018   |2018-06-14 20:37:56|06/14/2018 08:40:37 PM|06/14/2018 08:40:52 PM|Thu        |\n",
      "|12/30/2005   |2005-12-30 22:40:27|12/30/2005 10:46:33 PM|12/30/2005 11:37:23 PM|Fri        |\n",
      "+-------------+-------------------+----------------------+----------------------+-----------+\n",
      "only showing top 4 rows\n",
      "\n"
     ]
    }
   ],
   "source": [
    "# get day name\n",
    "df6 = df2.withColumn(\"Alarm_month\", F.date_format(F.col(\"Alarm DtTm\"), \"E\"))\n",
    "df6.show(n=4,truncate=False)"
   ]
  },
  {
   "cell_type": "code",
   "execution_count": 53,
   "metadata": {},
   "outputs": [],
   "source": [
    "spark.stop()"
   ]
  },
  {
   "cell_type": "code",
   "execution_count": null,
   "metadata": {},
   "outputs": [],
   "source": []
  }
 ],
 "metadata": {
  "kernelspec": {
   "display_name": "venvspark",
   "language": "python",
   "name": "venvspark"
  },
  "language_info": {
   "codemirror_mode": {
    "name": "ipython",
    "version": 3
   },
   "file_extension": ".py",
   "mimetype": "text/x-python",
   "name": "python",
   "nbconvert_exporter": "python",
   "pygments_lexer": "ipython3",
   "version": "3.6.8"
  }
 },
 "nbformat": 4,
 "nbformat_minor": 4
}
