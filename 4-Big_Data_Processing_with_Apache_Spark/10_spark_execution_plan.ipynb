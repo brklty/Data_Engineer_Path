{
 "cells": [
  {
   "cell_type": "code",
   "execution_count": 6,
   "metadata": {},
   "outputs": [],
   "source": [
    "import findspark"
   ]
  },
  {
   "cell_type": "code",
   "execution_count": 7,
   "metadata": {},
   "outputs": [],
   "source": [
    "findspark.init(\"/opt/manual/spark/\")"
   ]
  },
  {
   "cell_type": "code",
   "execution_count": 8,
   "metadata": {},
   "outputs": [],
   "source": [
    "from pyspark.sql import SparkSession, functions as F\n",
    "from pyspark.sql.types import *"
   ]
  },
  {
   "cell_type": "code",
   "execution_count": 9,
   "metadata": {},
   "outputs": [],
   "source": [
    "spark = SparkSession.builder \\\n",
    ".appName(\"Execution Plan\") \\\n",
    ".master(\"local[2]\") \\\n",
    ".config(\"spark.driver.memory\",\"1500m\") \\\n",
    ".config(\"spark.executer.memory\",\"2g\") \\\n",
    ".getOrCreate()"
   ]
  },
  {
   "cell_type": "code",
   "execution_count": 11,
   "metadata": {},
   "outputs": [],
   "source": [
    "df = spark.read \\\n",
    ".option(\"header\", True) \\\n",
    ".option(\"inferSchema\", True) \\\n",
    ".option(\"compression\",\"gzip\") \\\n",
    ".csv(\"file:///home/train/datasets/Hotel_Reviews.csv.gz\")"
   ]
  },
  {
   "cell_type": "code",
   "execution_count": 12,
   "metadata": {},
   "outputs": [],
   "source": [
    "df2 = df.withColumn(\"Tags\", F.split(F.col(\"Tags\"),\",\")\n",
    "                   .cast(ArrayType(StringType()))) \\\n",
    ".withColumn(\"Review_Date\", F.to_date(F.col(\"Review_Date\"),\"M/d/yyyy\"))"
   ]
  },
  {
   "cell_type": "code",
   "execution_count": 13,
   "metadata": {},
   "outputs": [
    {
     "data": {
      "text/html": [
       "<div>\n",
       "<style scoped>\n",
       "    .dataframe tbody tr th:only-of-type {\n",
       "        vertical-align: middle;\n",
       "    }\n",
       "\n",
       "    .dataframe tbody tr th {\n",
       "        vertical-align: top;\n",
       "    }\n",
       "\n",
       "    .dataframe thead th {\n",
       "        text-align: right;\n",
       "    }\n",
       "</style>\n",
       "<table border=\"1\" class=\"dataframe\">\n",
       "  <thead>\n",
       "    <tr style=\"text-align: right;\">\n",
       "      <th></th>\n",
       "      <th>Hotel_Address</th>\n",
       "      <th>Additional_Number_of_Scoring</th>\n",
       "      <th>Review_Date</th>\n",
       "      <th>Average_Score</th>\n",
       "      <th>Hotel_Name</th>\n",
       "      <th>Reviewer_Nationality</th>\n",
       "      <th>Negative_Review</th>\n",
       "      <th>Review_Total_Negative_Word_Counts</th>\n",
       "      <th>Total_Number_of_Reviews</th>\n",
       "      <th>Positive_Review</th>\n",
       "      <th>Review_Total_Positive_Word_Counts</th>\n",
       "      <th>Total_Number_of_Reviews_Reviewer_Has_Given</th>\n",
       "      <th>Reviewer_Score</th>\n",
       "      <th>Tags</th>\n",
       "      <th>days_since_review</th>\n",
       "      <th>lat</th>\n",
       "      <th>lng</th>\n",
       "    </tr>\n",
       "  </thead>\n",
       "  <tbody>\n",
       "    <tr>\n",
       "      <th>0</th>\n",
       "      <td>s Gravesandestraat 55 Oost 1092 AA Amsterdam ...</td>\n",
       "      <td>194</td>\n",
       "      <td>2017-08-03</td>\n",
       "      <td>7.7</td>\n",
       "      <td>Hotel Arena</td>\n",
       "      <td>Russia</td>\n",
       "      <td>I am so angry that i made this post available...</td>\n",
       "      <td>397</td>\n",
       "      <td>1403</td>\n",
       "      <td>Only the park outside of the hotel was beauti...</td>\n",
       "      <td>11</td>\n",
       "      <td>7</td>\n",
       "      <td>2.9</td>\n",
       "      <td>[[' Leisure trip ',  ' Couple ',  ' Duplex Dou...</td>\n",
       "      <td>0 days</td>\n",
       "      <td>52.3605759</td>\n",
       "      <td>4.9159683</td>\n",
       "    </tr>\n",
       "    <tr>\n",
       "      <th>1</th>\n",
       "      <td>s Gravesandestraat 55 Oost 1092 AA Amsterdam ...</td>\n",
       "      <td>194</td>\n",
       "      <td>2017-08-03</td>\n",
       "      <td>7.7</td>\n",
       "      <td>Hotel Arena</td>\n",
       "      <td>Ireland</td>\n",
       "      <td>No Negative</td>\n",
       "      <td>0</td>\n",
       "      <td>1403</td>\n",
       "      <td>No real complaints the hotel was great great ...</td>\n",
       "      <td>105</td>\n",
       "      <td>7</td>\n",
       "      <td>7.5</td>\n",
       "      <td>[[' Leisure trip ',  ' Couple ',  ' Duplex Dou...</td>\n",
       "      <td>0 days</td>\n",
       "      <td>52.3605759</td>\n",
       "      <td>4.9159683</td>\n",
       "    </tr>\n",
       "  </tbody>\n",
       "</table>\n",
       "</div>"
      ],
      "text/plain": [
       "                                       Hotel_Address  \\\n",
       "0   s Gravesandestraat 55 Oost 1092 AA Amsterdam ...   \n",
       "1   s Gravesandestraat 55 Oost 1092 AA Amsterdam ...   \n",
       "\n",
       "   Additional_Number_of_Scoring Review_Date  Average_Score   Hotel_Name  \\\n",
       "0                           194  2017-08-03            7.7  Hotel Arena   \n",
       "1                           194  2017-08-03            7.7  Hotel Arena   \n",
       "\n",
       "  Reviewer_Nationality                                    Negative_Review  \\\n",
       "0              Russia    I am so angry that i made this post available...   \n",
       "1             Ireland                                         No Negative   \n",
       "\n",
       "   Review_Total_Negative_Word_Counts  Total_Number_of_Reviews  \\\n",
       "0                                397                     1403   \n",
       "1                                  0                     1403   \n",
       "\n",
       "                                     Positive_Review  \\\n",
       "0   Only the park outside of the hotel was beauti...   \n",
       "1   No real complaints the hotel was great great ...   \n",
       "\n",
       "   Review_Total_Positive_Word_Counts  \\\n",
       "0                                 11   \n",
       "1                                105   \n",
       "\n",
       "   Total_Number_of_Reviews_Reviewer_Has_Given  Reviewer_Score  \\\n",
       "0                                           7             2.9   \n",
       "1                                           7             7.5   \n",
       "\n",
       "                                                Tags days_since_review  \\\n",
       "0  [[' Leisure trip ',  ' Couple ',  ' Duplex Dou...            0 days   \n",
       "1  [[' Leisure trip ',  ' Couple ',  ' Duplex Dou...            0 days   \n",
       "\n",
       "          lat        lng  \n",
       "0  52.3605759  4.9159683  \n",
       "1  52.3605759  4.9159683  "
      ]
     },
     "execution_count": 13,
     "metadata": {},
     "output_type": "execute_result"
    }
   ],
   "source": [
    "df2.limit(2).toPandas()"
   ]
  },
  {
   "cell_type": "code",
   "execution_count": 15,
   "metadata": {},
   "outputs": [],
   "source": [
    "df3 = df2.select(\"Review_Date\", \"Average_Score\",\"Reviewer_Nationality\") \\\n",
    ".withColumn(\"Year\", F.year(\"Review_Date\")) \\\n",
    ".groupBy(\"Year\") \\\n",
    ".agg(F.sum(\"Average_Score\").alias(\"Total_Average_Score\"))"
   ]
  },
  {
   "cell_type": "code",
   "execution_count": 16,
   "metadata": {},
   "outputs": [
    {
     "name": "stdout",
     "output_type": "stream",
     "text": [
      "== Parsed Logical Plan ==\n",
      "'Aggregate ['Year], [unresolvedalias('Year, None), sum('Average_Score) AS Total_Average_Score#120]\n",
      "+- Project [Review_Date#68, Average_Score#19, Reviewer_Nationality#21, year(Review_Date#68) AS Year#110]\n",
      "   +- Project [Review_Date#68, Average_Score#19, Reviewer_Nationality#21]\n",
      "      +- Project [Hotel_Address#16, Additional_Number_of_Scoring#17, to_date('Review_Date, Some(M/d/yyyy)) AS Review_Date#68, Average_Score#19, Hotel_Name#20, Reviewer_Nationality#21, Negative_Review#22, Review_Total_Negative_Word_Counts#23, Total_Number_of_Reviews#24, Positive_Review#25, Review_Total_Positive_Word_Counts#26, Total_Number_of_Reviews_Reviewer_Has_Given#27, Reviewer_Score#28, Tags#50, days_since_review#30, lat#31, lng#32]\n",
      "         +- Project [Hotel_Address#16, Additional_Number_of_Scoring#17, Review_Date#18, Average_Score#19, Hotel_Name#20, Reviewer_Nationality#21, Negative_Review#22, Review_Total_Negative_Word_Counts#23, Total_Number_of_Reviews#24, Positive_Review#25, Review_Total_Positive_Word_Counts#26, Total_Number_of_Reviews_Reviewer_Has_Given#27, Reviewer_Score#28, cast(split(Tags#29, ,, -1) as array<string>) AS Tags#50, days_since_review#30, lat#31, lng#32]\n",
      "            +- Relation[Hotel_Address#16,Additional_Number_of_Scoring#17,Review_Date#18,Average_Score#19,Hotel_Name#20,Reviewer_Nationality#21,Negative_Review#22,Review_Total_Negative_Word_Counts#23,Total_Number_of_Reviews#24,Positive_Review#25,Review_Total_Positive_Word_Counts#26,Total_Number_of_Reviews_Reviewer_Has_Given#27,Reviewer_Score#28,Tags#29,days_since_review#30,lat#31,lng#32] csv\n",
      "\n",
      "== Analyzed Logical Plan ==\n",
      "Year: int, Total_Average_Score: double\n",
      "Aggregate [Year#110], [Year#110, sum(Average_Score#19) AS Total_Average_Score#120]\n",
      "+- Project [Review_Date#68, Average_Score#19, Reviewer_Nationality#21, year(Review_Date#68) AS Year#110]\n",
      "   +- Project [Review_Date#68, Average_Score#19, Reviewer_Nationality#21]\n",
      "      +- Project [Hotel_Address#16, Additional_Number_of_Scoring#17, to_date('Review_Date, Some(M/d/yyyy)) AS Review_Date#68, Average_Score#19, Hotel_Name#20, Reviewer_Nationality#21, Negative_Review#22, Review_Total_Negative_Word_Counts#23, Total_Number_of_Reviews#24, Positive_Review#25, Review_Total_Positive_Word_Counts#26, Total_Number_of_Reviews_Reviewer_Has_Given#27, Reviewer_Score#28, Tags#50, days_since_review#30, lat#31, lng#32]\n",
      "         +- Project [Hotel_Address#16, Additional_Number_of_Scoring#17, Review_Date#18, Average_Score#19, Hotel_Name#20, Reviewer_Nationality#21, Negative_Review#22, Review_Total_Negative_Word_Counts#23, Total_Number_of_Reviews#24, Positive_Review#25, Review_Total_Positive_Word_Counts#26, Total_Number_of_Reviews_Reviewer_Has_Given#27, Reviewer_Score#28, cast(split(Tags#29, ,, -1) as array<string>) AS Tags#50, days_since_review#30, lat#31, lng#32]\n",
      "            +- Relation[Hotel_Address#16,Additional_Number_of_Scoring#17,Review_Date#18,Average_Score#19,Hotel_Name#20,Reviewer_Nationality#21,Negative_Review#22,Review_Total_Negative_Word_Counts#23,Total_Number_of_Reviews#24,Positive_Review#25,Review_Total_Positive_Word_Counts#26,Total_Number_of_Reviews_Reviewer_Has_Given#27,Reviewer_Score#28,Tags#29,days_since_review#30,lat#31,lng#32] csv\n",
      "\n",
      "== Optimized Logical Plan ==\n",
      "Aggregate [Year#110], [Year#110, sum(Average_Score#19) AS Total_Average_Score#120]\n",
      "+- Project [Average_Score#19, year(cast(cast(unix_timestamp(Review_Date#18, M/d/yyyy, Some(Europe/Istanbul)) as timestamp) as date)) AS Year#110]\n",
      "   +- Relation[Hotel_Address#16,Additional_Number_of_Scoring#17,Review_Date#18,Average_Score#19,Hotel_Name#20,Reviewer_Nationality#21,Negative_Review#22,Review_Total_Negative_Word_Counts#23,Total_Number_of_Reviews#24,Positive_Review#25,Review_Total_Positive_Word_Counts#26,Total_Number_of_Reviews_Reviewer_Has_Given#27,Reviewer_Score#28,Tags#29,days_since_review#30,lat#31,lng#32] csv\n",
      "\n",
      "== Physical Plan ==\n",
      "*(2) HashAggregate(keys=[Year#110], functions=[sum(Average_Score#19)], output=[Year#110, Total_Average_Score#120])\n",
      "+- Exchange hashpartitioning(Year#110, 200), true, [id=#49]\n",
      "   +- *(1) HashAggregate(keys=[Year#110], functions=[partial_sum(Average_Score#19)], output=[Year#110, sum#124])\n",
      "      +- *(1) Project [Average_Score#19, year(cast(cast(unix_timestamp(Review_Date#18, M/d/yyyy, Some(Europe/Istanbul)) as timestamp) as date)) AS Year#110]\n",
      "         +- FileScan csv [Review_Date#18,Average_Score#19] Batched: false, DataFilters: [], Format: CSV, Location: InMemoryFileIndex[file:/home/train/datasets/Hotel_Reviews.csv.gz], PartitionFilters: [], PushedFilters: [], ReadSchema: struct<Review_Date:string,Average_Score:double>\n",
      "\n"
     ]
    }
   ],
   "source": [
    "df3.explain(True)"
   ]
  },
  {
   "cell_type": "code",
   "execution_count": 17,
   "metadata": {},
   "outputs": [],
   "source": [
    "spark.stop()"
   ]
  },
  {
   "cell_type": "code",
   "execution_count": null,
   "metadata": {},
   "outputs": [],
   "source": []
  }
 ],
 "metadata": {
  "kernelspec": {
   "display_name": "venvspark",
   "language": "python",
   "name": "venvspark"
  },
  "language_info": {
   "codemirror_mode": {
    "name": "ipython",
    "version": 3
   },
   "file_extension": ".py",
   "mimetype": "text/x-python",
   "name": "python",
   "nbconvert_exporter": "python",
   "pygments_lexer": "ipython3",
   "version": "3.6.8"
  }
 },
 "nbformat": 4,
 "nbformat_minor": 4
}
