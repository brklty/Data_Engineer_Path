{
 "cells": [
  {
   "cell_type": "code",
   "execution_count": null,
   "metadata": {},
   "outputs": [],
   "source": [
    "# start-all.sh \n"
   ]
  },
  {
   "cell_type": "code",
   "execution_count": 1,
   "metadata": {},
   "outputs": [
    {
     "name": "stdout",
     "output_type": "stream",
     "text": [
      "Found 9 items\r\n",
      "-rw-r--r--   1 train supergroup       4556 2023-07-12 01:17 /user/train/datasets/Advertising.csv\r\n",
      "-rw-r--r--   1 train supergroup   46401315 2023-07-12 15:30 /user/train/datasets/Hotel_Reviews.csv.gz\r\n",
      "drwxr-xr-x   - train supergroup          0 2020-11-19 21:02 /user/train/datasets/churn-telecom\r\n",
      "drwxr-xr-x   - train supergroup          0 2023-07-10 15:19 /user/train/datasets/dried_fruits_input\r\n",
      "drwxr-xr-x   - train supergroup          0 2023-07-10 15:58 /user/train/datasets/dried_fruits_out\r\n",
      "drwxr-xr-x   - train supergroup          0 2020-11-21 11:16 /user/train/datasets/retail_db\r\n",
      "drwxr-xr-x   - train supergroup          0 2023-07-11 23:16 /user/train/datasets/turkish_cities_input\r\n",
      "-rw-r--r--   1 train supergroup    1979205 2023-07-14 14:17 /user/train/datasets/u.data\r\n",
      "-rw-r--r--   1 train supergroup     231652 2023-07-14 00:09 /user/train/datasets/u.item\r\n"
     ]
    }
   ],
   "source": [
    "! hdfs dfs -ls /user/train/datasets"
   ]
  },
  {
   "cell_type": "code",
   "execution_count": 2,
   "metadata": {},
   "outputs": [],
   "source": [
    "import findspark"
   ]
  },
  {
   "cell_type": "code",
   "execution_count": 3,
   "metadata": {},
   "outputs": [],
   "source": [
    "findspark.init(\"/opt/manual/spark/\")"
   ]
  },
  {
   "cell_type": "code",
   "execution_count": 4,
   "metadata": {},
   "outputs": [],
   "source": [
    "from pyspark.sql import SparkSession, functions as F\n"
   ]
  },
  {
   "cell_type": "code",
   "execution_count": 5,
   "metadata": {},
   "outputs": [],
   "source": [
    "spark = SparkSession.builder \\\n",
    ".appName(\"Spark YARN Mode\") \\\n",
    ".master(\"yarn\") \\\n",
    ".enableHiveSupport() \\\n",
    ".getOrCreate()"
   ]
  },
  {
   "cell_type": "code",
   "execution_count": 8,
   "metadata": {},
   "outputs": [],
   "source": [
    "# read from hdfs\n",
    "\n",
    "df = spark.read \\\n",
    ".format(\"csv\") \\\n",
    ".option(\"header\",True) \\\n",
    ".option(\"inferSchema\", True) \\\n",
    ".option(\"sep\", \",\") \\\n",
    ".load(\"hdfs://localhost:9000/user/train/datasets/Advertising.csv\")"
   ]
  },
  {
   "cell_type": "code",
   "execution_count": null,
   "metadata": {},
   "outputs": [],
   "source": [
    "df.show(4)"
   ]
  },
  {
   "cell_type": "code",
   "execution_count": null,
   "metadata": {},
   "outputs": [],
   "source": []
  }
 ],
 "metadata": {
  "kernelspec": {
   "display_name": "venvspark",
   "language": "python",
   "name": "venvspark"
  },
  "language_info": {
   "codemirror_mode": {
    "name": "ipython",
    "version": 3
   },
   "file_extension": ".py",
   "mimetype": "text/x-python",
   "name": "python",
   "nbconvert_exporter": "python",
   "pygments_lexer": "ipython3",
   "version": "3.6.8"
  }
 },
 "nbformat": 4,
 "nbformat_minor": 4
}
