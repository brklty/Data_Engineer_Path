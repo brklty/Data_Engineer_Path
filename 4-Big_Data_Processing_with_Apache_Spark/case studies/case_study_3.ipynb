{
 "cells": [
  {
   "cell_type": "code",
   "execution_count": 1,
   "metadata": {},
   "outputs": [],
   "source": [
    "import findspark\n",
    "findspark.init(\"/opt/manual/spark/\")"
   ]
  },
  {
   "cell_type": "code",
   "execution_count": 2,
   "metadata": {},
   "outputs": [],
   "source": [
    "from pyspark.sql import SparkSession, functions as F\n",
    "from pyspark.sql.types import *"
   ]
  },
  {
   "cell_type": "code",
   "execution_count": 4,
   "metadata": {},
   "outputs": [],
   "source": [
    "spark = SparkSession.builder \\\n",
    ".appName(\"case_study_3\") \\\n",
    ".master(\"yarn\") \\\n",
    ".config(\"spark.executor.memory\",\"2g\") \\\n",
    ".config(\"spark.driver.memory\", \"1g\") \\\n",
    ".enableHiveSupport() \\\n",
    ".getOrCreate()"
   ]
  },
  {
   "cell_type": "code",
   "execution_count": 10,
   "metadata": {},
   "outputs": [],
   "source": [
    "data = spark.read \\\n",
    ".option(\"sep\",\",\") \\\n",
    ".option(\"inferSchema\", True) \\\n",
    ".option(\"header\",True) \\\n",
    ".csv(\"/user/train/datasets/thy_data.txt\")"
   ]
  },
  {
   "cell_type": "code",
   "execution_count": 12,
   "metadata": {},
   "outputs": [
    {
     "data": {
      "text/html": [
       "<div>\n",
       "<style scoped>\n",
       "    .dataframe tbody tr th:only-of-type {\n",
       "        vertical-align: middle;\n",
       "    }\n",
       "\n",
       "    .dataframe tbody tr th {\n",
       "        vertical-align: top;\n",
       "    }\n",
       "\n",
       "    .dataframe thead th {\n",
       "        text-align: right;\n",
       "    }\n",
       "</style>\n",
       "<table border=\"1\" class=\"dataframe\">\n",
       "  <thead>\n",
       "    <tr style=\"text-align: right;\">\n",
       "      <th></th>\n",
       "      <th>SEASON</th>\n",
       "      <th>ORIGIN</th>\n",
       "      <th>DESTINATION</th>\n",
       "      <th>PSGR_COUNT</th>\n",
       "    </tr>\n",
       "  </thead>\n",
       "  <tbody>\n",
       "    <tr>\n",
       "      <th>0</th>\n",
       "      <td>SUMMER</td>\n",
       "      <td>227</td>\n",
       "      <td>YYZ</td>\n",
       "      <td>6</td>\n",
       "    </tr>\n",
       "    <tr>\n",
       "      <th>1</th>\n",
       "      <td>SUMMER</td>\n",
       "      <td>224</td>\n",
       "      <td>222</td>\n",
       "      <td>3</td>\n",
       "    </tr>\n",
       "    <tr>\n",
       "      <th>2</th>\n",
       "      <td>SUMMER</td>\n",
       "      <td>226</td>\n",
       "      <td>JF8</td>\n",
       "      <td>1</td>\n",
       "    </tr>\n",
       "    <tr>\n",
       "      <th>3</th>\n",
       "      <td>SUMMER</td>\n",
       "      <td>227</td>\n",
       "      <td>3RG</td>\n",
       "      <td>11</td>\n",
       "    </tr>\n",
       "    <tr>\n",
       "      <th>4</th>\n",
       "      <td>SUMMER</td>\n",
       "      <td>227</td>\n",
       "      <td>6RV</td>\n",
       "      <td>245</td>\n",
       "    </tr>\n",
       "  </tbody>\n",
       "</table>\n",
       "</div>"
      ],
      "text/plain": [
       "   SEASON ORIGIN DESTINATION  PSGR_COUNT\n",
       "0  SUMMER    227         YYZ           6\n",
       "1  SUMMER    224         222           3\n",
       "2  SUMMER    226         JF8           1\n",
       "3  SUMMER    227         3RG          11\n",
       "4  SUMMER    227         6RV         245"
      ]
     },
     "execution_count": 12,
     "metadata": {},
     "output_type": "execute_result"
    }
   ],
   "source": [
    "data.limit(5).toPandas()"
   ]
  },
  {
   "cell_type": "code",
   "execution_count": 13,
   "metadata": {},
   "outputs": [
    {
     "data": {
      "text/plain": [
       "1719202"
      ]
     },
     "execution_count": 13,
     "metadata": {},
     "output_type": "execute_result"
    }
   ],
   "source": [
    "data.count()"
   ]
  },
  {
   "cell_type": "code",
   "execution_count": 15,
   "metadata": {},
   "outputs": [
    {
     "data": {
      "text/plain": [
       "4"
      ]
     },
     "execution_count": 15,
     "metadata": {},
     "output_type": "execute_result"
    }
   ],
   "source": [
    "len(data.columns)"
   ]
  },
  {
   "cell_type": "code",
   "execution_count": 16,
   "metadata": {},
   "outputs": [
    {
     "name": "stdout",
     "output_type": "stream",
     "text": [
      "root\n",
      " |-- SEASON: string (nullable = true)\n",
      " |-- ORIGIN: string (nullable = true)\n",
      " |-- DESTINATION: string (nullable = true)\n",
      " |-- PSGR_COUNT: integer (nullable = true)\n",
      "\n"
     ]
    }
   ],
   "source": [
    "data.printSchema()"
   ]
  },
  {
   "cell_type": "code",
   "execution_count": 17,
   "metadata": {},
   "outputs": [
    {
     "data": {
      "text/plain": [
       "4210"
      ]
     },
     "execution_count": 17,
     "metadata": {},
     "output_type": "execute_result"
    }
   ],
   "source": [
    "data.select(\"ORIGIN\").distinct().count()"
   ]
  },
  {
   "cell_type": "code",
   "execution_count": 21,
   "metadata": {},
   "outputs": [
    {
     "name": "stdout",
     "output_type": "stream",
     "text": [
      "+------+----------------+-----------------+------+\n",
      "|SEASON|TOTAL_PSGR_COUNT|AVG_PSGR_COUNT   |COUNT |\n",
      "+------+----------------+-----------------+------+\n",
      "|WINTER|336882094       |420.1829420855103|801751|\n",
      "|SUMMER|521002675       |567.8806552066541|917451|\n",
      "+------+----------------+-----------------+------+\n",
      "\n"
     ]
    }
   ],
   "source": [
    "data.select(\"SEASON\",\"PSGR_COUNT\") \\\n",
    ".groupBy(\"SEASON\") \\\n",
    ".agg(F.sum(\"PSGR_COUNT\").alias(\"TOTAL_PSGR_COUNT\"),\n",
    "     F.avg(\"PSGR_COUNT\").alias(\"AVG_PSGR_COUNT\"),\n",
    "     F.count(\"PSGR_COUNT\").alias(\"COUNT\")) \\\n",
    ".show(truncate=False)"
   ]
  },
  {
   "cell_type": "code",
   "execution_count": 31,
   "metadata": {},
   "outputs": [
    {
     "data": {
      "text/html": [
       "<div>\n",
       "<style scoped>\n",
       "    .dataframe tbody tr th:only-of-type {\n",
       "        vertical-align: middle;\n",
       "    }\n",
       "\n",
       "    .dataframe tbody tr th {\n",
       "        vertical-align: top;\n",
       "    }\n",
       "\n",
       "    .dataframe thead th {\n",
       "        text-align: right;\n",
       "    }\n",
       "</style>\n",
       "<table border=\"1\" class=\"dataframe\">\n",
       "  <thead>\n",
       "    <tr style=\"text-align: right;\">\n",
       "      <th></th>\n",
       "      <th>ORIGIN</th>\n",
       "      <th>TOTAL_PSGR_COUNT</th>\n",
       "    </tr>\n",
       "  </thead>\n",
       "  <tbody>\n",
       "    <tr>\n",
       "      <th>0</th>\n",
       "      <td>IC7</td>\n",
       "      <td>11177363</td>\n",
       "    </tr>\n",
       "    <tr>\n",
       "      <th>1</th>\n",
       "      <td>LHR</td>\n",
       "      <td>9696224</td>\n",
       "    </tr>\n",
       "    <tr>\n",
       "      <th>2</th>\n",
       "      <td>H8G</td>\n",
       "      <td>8432456</td>\n",
       "    </tr>\n",
       "    <tr>\n",
       "      <th>3</th>\n",
       "      <td>DEL</td>\n",
       "      <td>7705173</td>\n",
       "    </tr>\n",
       "    <tr>\n",
       "      <th>4</th>\n",
       "      <td>CDG</td>\n",
       "      <td>7244943</td>\n",
       "    </tr>\n",
       "  </tbody>\n",
       "</table>\n",
       "</div>"
      ],
      "text/plain": [
       "  ORIGIN  TOTAL_PSGR_COUNT\n",
       "0    IC7          11177363\n",
       "1    LHR           9696224\n",
       "2    H8G           8432456\n",
       "3    DEL           7705173\n",
       "4    CDG           7244943"
      ]
     },
     "execution_count": 31,
     "metadata": {},
     "output_type": "execute_result"
    }
   ],
   "source": [
    "data.select(\"ORIGIN\",\"PSGR_COUNT\") \\\n",
    ".filter(\"SEASON == 'SUMMER'\") \\\n",
    ".groupBy(\"ORIGIN\") \\\n",
    ".agg(F.sum(\"PSGR_COUNT\").alias(\"TOTAL_PSGR_COUNT\")) \\\n",
    ".orderBy(F.desc(\"TOTAL_PSGR_COUNT\")) \\\n",
    ".limit(5).toPandas()"
   ]
  },
  {
   "cell_type": "code",
   "execution_count": 32,
   "metadata": {},
   "outputs": [],
   "source": [
    "ordered_data = data.groupBy(\"SEASON\",\"ORIGIN\") \\\n",
    ".agg(F.sum(\"PSGR_COUNT\").alias(\"TOTAL_PSGR_COUNT\")) \\\n",
    ".orderBy(F.desc(\"TOTAL_PSGR_COUNT\")) "
   ]
  },
  {
   "cell_type": "code",
   "execution_count": 33,
   "metadata": {},
   "outputs": [
    {
     "data": {
      "text/html": [
       "<div>\n",
       "<style scoped>\n",
       "    .dataframe tbody tr th:only-of-type {\n",
       "        vertical-align: middle;\n",
       "    }\n",
       "\n",
       "    .dataframe tbody tr th {\n",
       "        vertical-align: top;\n",
       "    }\n",
       "\n",
       "    .dataframe thead th {\n",
       "        text-align: right;\n",
       "    }\n",
       "</style>\n",
       "<table border=\"1\" class=\"dataframe\">\n",
       "  <thead>\n",
       "    <tr style=\"text-align: right;\">\n",
       "      <th></th>\n",
       "      <th>SEASON</th>\n",
       "      <th>ORIGIN</th>\n",
       "      <th>TOTAL_PSGR_COUNT</th>\n",
       "    </tr>\n",
       "  </thead>\n",
       "  <tbody>\n",
       "    <tr>\n",
       "      <th>0</th>\n",
       "      <td>SUMMER</td>\n",
       "      <td>IC7</td>\n",
       "      <td>11177363</td>\n",
       "    </tr>\n",
       "    <tr>\n",
       "      <th>1</th>\n",
       "      <td>SUMMER</td>\n",
       "      <td>LHR</td>\n",
       "      <td>9696224</td>\n",
       "    </tr>\n",
       "    <tr>\n",
       "      <th>2</th>\n",
       "      <td>SUMMER</td>\n",
       "      <td>H8G</td>\n",
       "      <td>8432456</td>\n",
       "    </tr>\n",
       "    <tr>\n",
       "      <th>3</th>\n",
       "      <td>WINTER</td>\n",
       "      <td>IC7</td>\n",
       "      <td>7803139</td>\n",
       "    </tr>\n",
       "    <tr>\n",
       "      <th>4</th>\n",
       "      <td>SUMMER</td>\n",
       "      <td>DEL</td>\n",
       "      <td>7705173</td>\n",
       "    </tr>\n",
       "  </tbody>\n",
       "</table>\n",
       "</div>"
      ],
      "text/plain": [
       "   SEASON ORIGIN  TOTAL_PSGR_COUNT\n",
       "0  SUMMER    IC7          11177363\n",
       "1  SUMMER    LHR           9696224\n",
       "2  SUMMER    H8G           8432456\n",
       "3  WINTER    IC7           7803139\n",
       "4  SUMMER    DEL           7705173"
      ]
     },
     "execution_count": 33,
     "metadata": {},
     "output_type": "execute_result"
    }
   ],
   "source": [
    "ordered_data.limit(5).toPandas()"
   ]
  },
  {
   "cell_type": "code",
   "execution_count": 34,
   "metadata": {},
   "outputs": [],
   "source": [
    "ordered_data.write \\\n",
    ".format(\"ORC\") \\\n",
    ".mode(\"overwrite\") \\\n",
    ".saveAsTable(\"test1.ordered_thy_data\")"
   ]
  },
  {
   "cell_type": "code",
   "execution_count": 36,
   "metadata": {},
   "outputs": [
    {
     "name": "stdout",
     "output_type": "stream",
     "text": [
      "+---------+\n",
      "|namespace|\n",
      "+---------+\n",
      "|bookstore|\n",
      "|  default|\n",
      "|movielens|\n",
      "|    test1|\n",
      "+---------+\n",
      "\n"
     ]
    }
   ],
   "source": [
    "spark.sql(\"show databases;\").show()"
   ]
  },
  {
   "cell_type": "code",
   "execution_count": 39,
   "metadata": {},
   "outputs": [
    {
     "name": "stdout",
     "output_type": "stream",
     "text": [
      "+------+------+----------------+\n",
      "|SEASON|ORIGIN|TOTAL_PSGR_COUNT|\n",
      "+------+------+----------------+\n",
      "|WINTER|   YLP|               1|\n",
      "|WINTER|   27Z|               1|\n",
      "|WINTER|   7O4|               1|\n",
      "|WINTER|   3VI|               1|\n",
      "|WINTER|   4YD|               1|\n",
      "+------+------+----------------+\n",
      "\n"
     ]
    }
   ],
   "source": [
    "spark.sql(\"select * from test1.ordered_thy_data limit 5;\").show()"
   ]
  },
  {
   "cell_type": "code",
   "execution_count": 53,
   "metadata": {},
   "outputs": [],
   "source": [
    "jdbcUrl = \"jdbc:postgresql://localhost/traindb?user=train&password=Ankara06\""
   ]
  },
  {
   "cell_type": "code",
   "execution_count": 57,
   "metadata": {},
   "outputs": [],
   "source": [
    "ordered_data.write \\\n",
    ".mode(\"overwrite\") \\\n",
    ".jdbc(url=jdbcUrl,\n",
    "      table=\"ordered_thy_data\",\n",
    "      mode=\"overwrite\",\n",
    "      properties=({\"driver\":\"org.postgresql.Driver\"}))"
   ]
  },
  {
   "cell_type": "code",
   "execution_count": 58,
   "metadata": {},
   "outputs": [
    {
     "data": {
      "text/html": [
       "<div>\n",
       "<style scoped>\n",
       "    .dataframe tbody tr th:only-of-type {\n",
       "        vertical-align: middle;\n",
       "    }\n",
       "\n",
       "    .dataframe tbody tr th {\n",
       "        vertical-align: top;\n",
       "    }\n",
       "\n",
       "    .dataframe thead th {\n",
       "        text-align: right;\n",
       "    }\n",
       "</style>\n",
       "<table border=\"1\" class=\"dataframe\">\n",
       "  <thead>\n",
       "    <tr style=\"text-align: right;\">\n",
       "      <th></th>\n",
       "      <th>SEASON</th>\n",
       "      <th>ORIGIN</th>\n",
       "      <th>TOTAL_PSGR_COUNT</th>\n",
       "    </tr>\n",
       "  </thead>\n",
       "  <tbody>\n",
       "    <tr>\n",
       "      <th>0</th>\n",
       "      <td>SUMMER</td>\n",
       "      <td>IC7</td>\n",
       "      <td>11177363</td>\n",
       "    </tr>\n",
       "    <tr>\n",
       "      <th>1</th>\n",
       "      <td>SUMMER</td>\n",
       "      <td>LHR</td>\n",
       "      <td>9696224</td>\n",
       "    </tr>\n",
       "    <tr>\n",
       "      <th>2</th>\n",
       "      <td>SUMMER</td>\n",
       "      <td>H8G</td>\n",
       "      <td>8432456</td>\n",
       "    </tr>\n",
       "    <tr>\n",
       "      <th>3</th>\n",
       "      <td>WINTER</td>\n",
       "      <td>IC7</td>\n",
       "      <td>7803139</td>\n",
       "    </tr>\n",
       "    <tr>\n",
       "      <th>4</th>\n",
       "      <td>SUMMER</td>\n",
       "      <td>DEL</td>\n",
       "      <td>7705173</td>\n",
       "    </tr>\n",
       "  </tbody>\n",
       "</table>\n",
       "</div>"
      ],
      "text/plain": [
       "   SEASON ORIGIN  TOTAL_PSGR_COUNT\n",
       "0  SUMMER    IC7          11177363\n",
       "1  SUMMER    LHR           9696224\n",
       "2  SUMMER    H8G           8432456\n",
       "3  WINTER    IC7           7803139\n",
       "4  SUMMER    DEL           7705173"
      ]
     },
     "execution_count": 58,
     "metadata": {},
     "output_type": "execute_result"
    }
   ],
   "source": [
    "spark.read \\\n",
    ".jdbc(url=jdbcUrl,table=\"ordered_thy_data\",properties={\"driver\":\"org.postgresql.Driver\"}).limit(5).toPandas()"
   ]
  },
  {
   "cell_type": "code",
   "execution_count": 59,
   "metadata": {},
   "outputs": [],
   "source": [
    "spark.stop()"
   ]
  },
  {
   "cell_type": "code",
   "execution_count": null,
   "metadata": {},
   "outputs": [],
   "source": []
  }
 ],
 "metadata": {
  "kernelspec": {
   "display_name": "venvspark",
   "language": "python",
   "name": "venvspark"
  },
  "language_info": {
   "codemirror_mode": {
    "name": "ipython",
    "version": 3
   },
   "file_extension": ".py",
   "mimetype": "text/x-python",
   "name": "python",
   "nbconvert_exporter": "python",
   "pygments_lexer": "ipython3",
   "version": "3.6.8"
  }
 },
 "nbformat": 4,
 "nbformat_minor": 4
}
