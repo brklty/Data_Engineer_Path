{
 "cells": [
  {
   "cell_type": "markdown",
   "metadata": {},
   "source": [
    "# Unsupervised Learning and Customer Segmentation with Spark\n",
    "\n",
    "## Business Problem :\n",
    "\n",
    "#### The firm wants to segment customers and determine marketing strategies according to these segments. For this purpose, the behaviors of the customers will be defined and groups will be formed according to the clusters in these behaviors."
   ]
  },
  {
   "cell_type": "markdown",
   "metadata": {},
   "source": [
    "## Task 1 : Data preparation and first look"
   ]
  },
  {
   "cell_type": "markdown",
   "metadata": {},
   "source": [
    "### Step 1: Start "
   ]
  },
  {
   "cell_type": "code",
   "execution_count": 1,
   "metadata": {},
   "outputs": [],
   "source": [
    "import findspark\n",
    "findspark.init(\"/opt/manual/spark/\")"
   ]
  },
  {
   "cell_type": "code",
   "execution_count": 2,
   "metadata": {},
   "outputs": [],
   "source": [
    "from pyspark.sql import SparkSession, functions as F\n",
    "import pandas as pd"
   ]
  },
  {
   "cell_type": "code",
   "execution_count": 3,
   "metadata": {},
   "outputs": [],
   "source": [
    "spark = SparkSession.builder \\\n",
    ".appName(\"Customer Segmentation with Spark\") \\\n",
    ".master(\"yarn\") \\\n",
    ".config(\"spark.sql.shuffle.paritions\",\"20\") \\\n",
    ".config(\"spark.driver.memory\", \"1g\") \\\n",
    ".config(\"spark.executer.memory\",\"2g\") \\\n",
    ".enableHiveSupport() \\\n",
    ".getOrCreate()"
   ]
  },
  {
   "cell_type": "code",
   "execution_count": 4,
   "metadata": {},
   "outputs": [],
   "source": [
    "df = spark.read \\\n",
    ".format(\"csv\") \\\n",
    ".option(\"header\",True) \\\n",
    ".option(\"inferSchema\", True) \\\n",
    ".option(\"sep\", \"|\") \\\n",
    ".load(\"/user/train/datasets/flo100k.csv\")"
   ]
  },
  {
   "cell_type": "markdown",
   "metadata": {},
   "source": [
    "### Step 2: First look"
   ]
  },
  {
   "cell_type": "code",
   "execution_count": 5,
   "metadata": {},
   "outputs": [
    {
     "data": {
      "text/html": [
       "<div>\n",
       "<style scoped>\n",
       "    .dataframe tbody tr th:only-of-type {\n",
       "        vertical-align: middle;\n",
       "    }\n",
       "\n",
       "    .dataframe tbody tr th {\n",
       "        vertical-align: top;\n",
       "    }\n",
       "\n",
       "    .dataframe thead th {\n",
       "        text-align: right;\n",
       "    }\n",
       "</style>\n",
       "<table border=\"1\" class=\"dataframe\">\n",
       "  <thead>\n",
       "    <tr style=\"text-align: right;\">\n",
       "      <th></th>\n",
       "      <th>master_id</th>\n",
       "      <th>order_channel</th>\n",
       "      <th>platform_type</th>\n",
       "      <th>last_order_channel</th>\n",
       "      <th>first_order_date</th>\n",
       "      <th>last_order_date</th>\n",
       "      <th>last_order_date_online</th>\n",
       "      <th>last_order_date_offline</th>\n",
       "      <th>order_num_total_ever_online</th>\n",
       "      <th>order_num_total_ever_offline</th>\n",
       "      <th>customer_value_total_ever_offline</th>\n",
       "      <th>customer_value_total_ever_online</th>\n",
       "      <th>interested_in_categories_12</th>\n",
       "      <th>online_product_group_amount_top_name_12</th>\n",
       "      <th>offline_product_group_name_12</th>\n",
       "      <th>last_order_date_new</th>\n",
       "      <th>store_type</th>\n",
       "    </tr>\n",
       "  </thead>\n",
       "  <tbody>\n",
       "    <tr>\n",
       "      <th>0</th>\n",
       "      <td>b3ace094-a17f-11e9-a2fc-000d3a38a36f</td>\n",
       "      <td>Offline</td>\n",
       "      <td>Offline</td>\n",
       "      <td>Offline</td>\n",
       "      <td>2019-02-23 12:59:17</td>\n",
       "      <td>2019-02-23 12:59:17</td>\n",
       "      <td>NaT</td>\n",
       "      <td>2019-02-23 12:59:17</td>\n",
       "      <td>NaN</td>\n",
       "      <td>1.0</td>\n",
       "      <td>212.98</td>\n",
       "      <td>0.00</td>\n",
       "      <td>None</td>\n",
       "      <td>None</td>\n",
       "      <td>None</td>\n",
       "      <td>2019-02-23</td>\n",
       "      <td>A</td>\n",
       "    </tr>\n",
       "    <tr>\n",
       "      <th>1</th>\n",
       "      <td>c57d7c4c-a950-11e9-a2fc-000d3a38a36f</td>\n",
       "      <td>Offline</td>\n",
       "      <td>OmniChannel</td>\n",
       "      <td>Offline</td>\n",
       "      <td>2019-12-01 16:48:09</td>\n",
       "      <td>2019-12-01 16:48:09</td>\n",
       "      <td>NaT</td>\n",
       "      <td>2019-12-01 16:48:09</td>\n",
       "      <td>NaN</td>\n",
       "      <td>1.0</td>\n",
       "      <td>199.98</td>\n",
       "      <td>0.00</td>\n",
       "      <td>None</td>\n",
       "      <td>None</td>\n",
       "      <td>None</td>\n",
       "      <td>2019-12-01</td>\n",
       "      <td>A</td>\n",
       "    </tr>\n",
       "    <tr>\n",
       "      <th>2</th>\n",
       "      <td>602897a6-cdac-11ea-b31f-000d3a38a36f</td>\n",
       "      <td>Offline</td>\n",
       "      <td>Offline</td>\n",
       "      <td>Offline</td>\n",
       "      <td>2020-07-24 15:49:47</td>\n",
       "      <td>2020-07-24 15:49:47</td>\n",
       "      <td>NaT</td>\n",
       "      <td>2020-07-24 15:49:47</td>\n",
       "      <td>NaN</td>\n",
       "      <td>1.0</td>\n",
       "      <td>140.49</td>\n",
       "      <td>0.00</td>\n",
       "      <td>[ERKEK]</td>\n",
       "      <td>None</td>\n",
       "      <td>ERKEK</td>\n",
       "      <td>2020-07-24</td>\n",
       "      <td>A</td>\n",
       "    </tr>\n",
       "    <tr>\n",
       "      <th>3</th>\n",
       "      <td>388e4c4e-af86-11e9-a2fc-000d3a38a36f</td>\n",
       "      <td>Mobile</td>\n",
       "      <td>Online</td>\n",
       "      <td>Mobile</td>\n",
       "      <td>2018-12-31 07:22:07</td>\n",
       "      <td>2018-12-31 07:22:07</td>\n",
       "      <td>2018-12-31 07:22:07</td>\n",
       "      <td>NaT</td>\n",
       "      <td>1.0</td>\n",
       "      <td>NaN</td>\n",
       "      <td>0.00</td>\n",
       "      <td>174.99</td>\n",
       "      <td>None</td>\n",
       "      <td>None</td>\n",
       "      <td>None</td>\n",
       "      <td>2018-12-31</td>\n",
       "      <td>A</td>\n",
       "    </tr>\n",
       "    <tr>\n",
       "      <th>4</th>\n",
       "      <td>80664354-adf0-11eb-8f64-000d3a299ebf</td>\n",
       "      <td>Desktop</td>\n",
       "      <td>Online</td>\n",
       "      <td>Desktop</td>\n",
       "      <td>2021-05-05 21:07:02</td>\n",
       "      <td>2021-05-05 22:39:36</td>\n",
       "      <td>2021-05-05 22:39:36</td>\n",
       "      <td>NaT</td>\n",
       "      <td>2.0</td>\n",
       "      <td>NaN</td>\n",
       "      <td>0.00</td>\n",
       "      <td>283.95</td>\n",
       "      <td>[]</td>\n",
       "      <td>None</td>\n",
       "      <td>None</td>\n",
       "      <td>2021-05-05</td>\n",
       "      <td>A</td>\n",
       "    </tr>\n",
       "  </tbody>\n",
       "</table>\n",
       "</div>"
      ],
      "text/plain": [
       "                              master_id order_channel platform_type  \\\n",
       "0  b3ace094-a17f-11e9-a2fc-000d3a38a36f       Offline       Offline   \n",
       "1  c57d7c4c-a950-11e9-a2fc-000d3a38a36f       Offline   OmniChannel   \n",
       "2  602897a6-cdac-11ea-b31f-000d3a38a36f       Offline       Offline   \n",
       "3  388e4c4e-af86-11e9-a2fc-000d3a38a36f        Mobile        Online   \n",
       "4  80664354-adf0-11eb-8f64-000d3a299ebf       Desktop        Online   \n",
       "\n",
       "  last_order_channel    first_order_date     last_order_date  \\\n",
       "0            Offline 2019-02-23 12:59:17 2019-02-23 12:59:17   \n",
       "1            Offline 2019-12-01 16:48:09 2019-12-01 16:48:09   \n",
       "2            Offline 2020-07-24 15:49:47 2020-07-24 15:49:47   \n",
       "3             Mobile 2018-12-31 07:22:07 2018-12-31 07:22:07   \n",
       "4            Desktop 2021-05-05 21:07:02 2021-05-05 22:39:36   \n",
       "\n",
       "  last_order_date_online last_order_date_offline  order_num_total_ever_online  \\\n",
       "0                    NaT     2019-02-23 12:59:17                          NaN   \n",
       "1                    NaT     2019-12-01 16:48:09                          NaN   \n",
       "2                    NaT     2020-07-24 15:49:47                          NaN   \n",
       "3    2018-12-31 07:22:07                     NaT                          1.0   \n",
       "4    2021-05-05 22:39:36                     NaT                          2.0   \n",
       "\n",
       "   order_num_total_ever_offline  customer_value_total_ever_offline  \\\n",
       "0                           1.0                             212.98   \n",
       "1                           1.0                             199.98   \n",
       "2                           1.0                             140.49   \n",
       "3                           NaN                               0.00   \n",
       "4                           NaN                               0.00   \n",
       "\n",
       "   customer_value_total_ever_online interested_in_categories_12  \\\n",
       "0                              0.00                        None   \n",
       "1                              0.00                        None   \n",
       "2                              0.00                     [ERKEK]   \n",
       "3                            174.99                        None   \n",
       "4                            283.95                          []   \n",
       "\n",
       "  online_product_group_amount_top_name_12 offline_product_group_name_12  \\\n",
       "0                                    None                          None   \n",
       "1                                    None                          None   \n",
       "2                                    None                         ERKEK   \n",
       "3                                    None                          None   \n",
       "4                                    None                          None   \n",
       "\n",
       "  last_order_date_new store_type  \n",
       "0          2019-02-23          A  \n",
       "1          2019-12-01          A  \n",
       "2          2020-07-24          A  \n",
       "3          2018-12-31          A  \n",
       "4          2021-05-05          A  "
      ]
     },
     "execution_count": 5,
     "metadata": {},
     "output_type": "execute_result"
    }
   ],
   "source": [
    "df.limit(5).toPandas()"
   ]
  },
  {
   "cell_type": "code",
   "execution_count": 6,
   "metadata": {},
   "outputs": [
    {
     "name": "stdout",
     "output_type": "stream",
     "text": [
      "100000\n"
     ]
    }
   ],
   "source": [
    "df_count = df.count()\n",
    "print(df_count)"
   ]
  },
  {
   "cell_type": "code",
   "execution_count": 7,
   "metadata": {},
   "outputs": [
    {
     "data": {
      "text/plain": [
       "17"
      ]
     },
     "execution_count": 7,
     "metadata": {},
     "output_type": "execute_result"
    }
   ],
   "source": [
    "len(df.columns)"
   ]
  },
  {
   "cell_type": "code",
   "execution_count": 8,
   "metadata": {},
   "outputs": [
    {
     "data": {
      "text/plain": [
       "[('master_id', 'string'),\n",
       " ('order_channel', 'string'),\n",
       " ('platform_type', 'string'),\n",
       " ('last_order_channel', 'string'),\n",
       " ('first_order_date', 'timestamp'),\n",
       " ('last_order_date', 'timestamp'),\n",
       " ('last_order_date_online', 'timestamp'),\n",
       " ('last_order_date_offline', 'timestamp'),\n",
       " ('order_num_total_ever_online', 'double'),\n",
       " ('order_num_total_ever_offline', 'double'),\n",
       " ('customer_value_total_ever_offline', 'double'),\n",
       " ('customer_value_total_ever_online', 'double'),\n",
       " ('interested_in_categories_12', 'string'),\n",
       " ('online_product_group_amount_top_name_12', 'string'),\n",
       " ('offline_product_group_name_12', 'string'),\n",
       " ('last_order_date_new', 'string'),\n",
       " ('store_type', 'string')]"
      ]
     },
     "execution_count": 8,
     "metadata": {},
     "output_type": "execute_result"
    }
   ],
   "source": [
    "df.dtypes"
   ]
  },
  {
   "cell_type": "markdown",
   "metadata": {},
   "source": [
    "### Step 3: Null check"
   ]
  },
  {
   "cell_type": "code",
   "execution_count": 9,
   "metadata": {},
   "outputs": [
    {
     "name": "stdout",
     "output_type": "stream",
     "text": [
      "last_order_date_online:  70784 % 70.784 \n",
      "last_order_date_offline:  21703 % 21.703 \n",
      "order_num_total_ever_online:  70784 % 70.784 \n",
      "order_num_total_ever_offline:  21703 % 21.703 \n",
      "interested_in_categories_12:  56590 % 56.589999999999996 \n",
      "online_product_group_amount_top_name_12:  88295 % 88.295 \n",
      "offline_product_group_name_12:  77209 % 77.209 \n"
     ]
    }
   ],
   "source": [
    "for col_name in df.dtypes:\n",
    "    null_count = df.filter((F.col(col_name[0]).isNull()) | (F.col(col_name[0]) == \"\") | (F.col(col_name[0])== \"NA\")).count()\n",
    "    \n",
    "    if null_count > 0:\n",
    "        print(f\"{col_name[0]}:  {null_count} % {null_count / df_count * 100} \")\n",
    "        "
   ]
  },
  {
   "cell_type": "markdown",
   "metadata": {},
   "source": [
    "## Task 2 : Data analysis"
   ]
  },
  {
   "cell_type": "markdown",
   "metadata": {},
   "source": [
    "### Step 1: Checḱ unique varialbe"
   ]
  },
  {
   "cell_type": "code",
   "execution_count": 10,
   "metadata": {},
   "outputs": [
    {
     "data": {
      "text/plain": [
       "100000"
      ]
     },
     "execution_count": 10,
     "metadata": {},
     "output_type": "execute_result"
    }
   ],
   "source": [
    "df.select(\"master_id\").distinct().count()"
   ]
  },
  {
   "cell_type": "markdown",
   "metadata": {},
   "source": [
    "### Step 2: Understanding the data"
   ]
  },
  {
   "cell_type": "code",
   "execution_count": 11,
   "metadata": {},
   "outputs": [
    {
     "name": "stdout",
     "output_type": "stream",
     "text": [
      "+-------------+-------------+-----+\n",
      "|platform_type|order_channel|count|\n",
      "+-------------+-------------+-----+\n",
      "|      Offline|      Offline|65991|\n",
      "|       Online|  Android App| 8728|\n",
      "|       Online|       Mobile| 6451|\n",
      "|  OmniChannel|      Offline| 4793|\n",
      "|  OmniChannel|  Android App| 3261|\n",
      "|       Online|      Desktop| 3253|\n",
      "|       Online|      Ios App| 3008|\n",
      "|  OmniChannel|       Mobile| 2061|\n",
      "|  OmniChannel|      Desktop| 1498|\n",
      "|  OmniChannel|      Ios App|  956|\n",
      "+-------------+-------------+-----+\n",
      "\n"
     ]
    }
   ],
   "source": [
    "df.select(\"platform_type\",\"order_channel\").groupBy(\"platform_type\",\"order_channel\").count().orderBy(F.desc(\"count\")).show()"
   ]
  },
  {
   "cell_type": "markdown",
   "metadata": {},
   "source": [
    "### Step 3: Omnichannel"
   ]
  },
  {
   "cell_type": "code",
   "execution_count": 12,
   "metadata": {},
   "outputs": [],
   "source": [
    "# fill na with 0\n",
    " \n",
    "df = df.na.fill(value=0,\n",
    "               subset=['order_num_total_ever_offline',\n",
    "                      'order_num_total_ever_online',\n",
    "                      'customer_value_total_ever_offline',\n",
    "                      'customer_value_total_ever_online'])"
   ]
  },
  {
   "cell_type": "code",
   "execution_count": 13,
   "metadata": {},
   "outputs": [],
   "source": [
    "# check values\n",
    "df = df.filter((df.order_num_total_ever_offline >= 0) &\n",
    "               (df.order_num_total_ever_online >= 0) &\n",
    "               (df.customer_value_total_ever_offline >=0) &\n",
    "               (df.customer_value_total_ever_online >=0))\n",
    "                "
   ]
  },
  {
   "cell_type": "code",
   "execution_count": 14,
   "metadata": {},
   "outputs": [],
   "source": [
    "df = df.withColumn(\"order_num_total\",\n",
    "                  df.order_num_total_ever_offline + df.order_num_total_ever_online)"
   ]
  },
  {
   "cell_type": "code",
   "execution_count": 15,
   "metadata": {},
   "outputs": [],
   "source": [
    "df = df.withColumn(\"customer_values_total\",\n",
    "                  df.customer_value_total_ever_offline + df.customer_value_total_ever_online)"
   ]
  },
  {
   "cell_type": "markdown",
   "metadata": {},
   "source": [
    "### Step 4: channel review"
   ]
  },
  {
   "cell_type": "code",
   "execution_count": 16,
   "metadata": {},
   "outputs": [
    {
     "name": "stdout",
     "output_type": "stream",
     "text": [
      "+-------------+--------------+-------------------+------------------------+\n",
      "|order_channel|customer_count|avg_order_num_total|avg_customer_value_total|\n",
      "+-------------+--------------+-------------------+------------------------+\n",
      "|  Android App|         11989|   3.50971724080407|       532.8462840937639|\n",
      "|       Mobile|          8512|  2.798637218045113|       391.7418761748012|\n",
      "|      Ios App|          3964|  3.377648839556004|       568.4640312815283|\n",
      "|      Desktop|          4751|  2.538623447695222|      376.91355504103785|\n",
      "|      Offline|         70784| 1.6003475361663653|      218.16394849129728|\n",
      "+-------------+--------------+-------------------+------------------------+\n",
      "\n"
     ]
    }
   ],
   "source": [
    "df.groupBy(\"order_channel\")\\\n",
    ".agg(F.count(\"master_id\").alias(\"customer_count\")\n",
    "    ,F.avg(\"order_num_total\").alias(\"avg_order_num_total\")\n",
    "     ,F.avg(\"customer_values_total\").alias(\"avg_customer_value_total\")).show()"
   ]
  },
  {
   "cell_type": "markdown",
   "metadata": {},
   "source": [
    "### Step 5: Sales values by platform"
   ]
  },
  {
   "cell_type": "code",
   "execution_count": 17,
   "metadata": {},
   "outputs": [
    {
     "name": "stdout",
     "output_type": "stream",
     "text": [
      "+-------------+--------------+-------------------+------------------------+\n",
      "|platform_type|customer_count|avg_order_num_total|avg_customer_value_total|\n",
      "+-------------+--------------+-------------------+------------------------+\n",
      "|  OmniChannel|         12569| 3.4947092051873656|       500.7937512928769|\n",
      "|       Online|         21440| 2.6207089552238805|       404.7896576492903|\n",
      "|      Offline|         65991| 1.5837917291751906|       215.7303068601296|\n",
      "+-------------+--------------+-------------------+------------------------+\n",
      "\n"
     ]
    }
   ],
   "source": [
    "df.groupBy(\"platform_type\")\\\n",
    ".agg(F.count(\"master_id\").alias(\"customer_count\")\n",
    "    ,F.avg(\"order_num_total\").alias(\"avg_order_num_total\")\n",
    "     ,F.avg(\"customer_values_total\").alias(\"avg_customer_value_total\")).show()"
   ]
  },
  {
   "cell_type": "markdown",
   "metadata": {},
   "source": [
    "## Task 3 : Calculate Kmeans metrics"
   ]
  },
  {
   "cell_type": "markdown",
   "metadata": {},
   "source": [
    "### Step 1: RFM"
   ]
  },
  {
   "cell_type": "code",
   "execution_count": 18,
   "metadata": {},
   "outputs": [],
   "source": [
    "rfm = df.select(\"master_id\", \"last_order_date_new\", \"order_num_total\", \"customer_values_total\")"
   ]
  },
  {
   "cell_type": "code",
   "execution_count": 19,
   "metadata": {},
   "outputs": [
    {
     "name": "stdout",
     "output_type": "stream",
     "text": [
      "+--------------------+-------------------+---------------+---------------------+\n",
      "|           master_id|last_order_date_new|order_num_total|customer_values_total|\n",
      "+--------------------+-------------------+---------------+---------------------+\n",
      "|b3ace094-a17f-11e...|         2019-02-23|            1.0|               212.98|\n",
      "|c57d7c4c-a950-11e...|         2019-12-01|            1.0|               199.98|\n",
      "|602897a6-cdac-11e...|         2020-07-24|            1.0|               140.49|\n",
      "|388e4c4e-af86-11e...|         2018-12-31|            1.0|               174.99|\n",
      "|80664354-adf0-11e...|         2021-05-05|            2.0|               283.95|\n",
      "+--------------------+-------------------+---------------+---------------------+\n",
      "only showing top 5 rows\n",
      "\n"
     ]
    }
   ],
   "source": [
    "rfm.show(5)"
   ]
  },
  {
   "cell_type": "markdown",
   "metadata": {},
   "source": [
    "### Step 2: Last purchase date"
   ]
  },
  {
   "cell_type": "code",
   "execution_count": 20,
   "metadata": {},
   "outputs": [
    {
     "data": {
      "text/plain": [
       "datetime.date(2021, 5, 30)"
      ]
     },
     "execution_count": 20,
     "metadata": {},
     "output_type": "execute_result"
    }
   ],
   "source": [
    "last_order_date = df.agg({\"last_order_date\":\"max\"}).collect()[0][0]\n",
    "last_order_date.date()"
   ]
  },
  {
   "cell_type": "markdown",
   "metadata": {},
   "source": [
    "### Step 3: Recency"
   ]
  },
  {
   "cell_type": "code",
   "execution_count": 21,
   "metadata": {},
   "outputs": [
    {
     "name": "stdout",
     "output_type": "stream",
     "text": [
      "+--------------------+-------------------+---------------+---------------------+-------+\n",
      "|           master_id|last_order_date_new|order_num_total|customer_values_total|Recency|\n",
      "+--------------------+-------------------+---------------+---------------------+-------+\n",
      "|b3ace094-a17f-11e...|         2019-02-23|            1.0|               212.98|    829|\n",
      "|c57d7c4c-a950-11e...|         2019-12-01|            1.0|               199.98|    548|\n",
      "|602897a6-cdac-11e...|         2020-07-24|            1.0|               140.49|    312|\n",
      "|388e4c4e-af86-11e...|         2018-12-31|            1.0|               174.99|    883|\n",
      "|80664354-adf0-11e...|         2021-05-05|            2.0|               283.95|     27|\n",
      "|47511f36-aeb4-11e...|         2018-11-11|            1.0|               139.98|    933|\n",
      "|77f7c318-3407-11e...|         2020-12-01|            1.0|                269.9|    182|\n",
      "|399d6dd2-ecf1-11e...|         2020-09-02|            1.0|                95.73|    272|\n",
      "|b3d4a6f2-a368-11e...|         2020-09-24|            3.0|               207.94|    250|\n",
      "|42fdccd4-f1d1-11e...|         2020-10-18|            1.0|               134.95|    226|\n",
      "|071b497c-a5d2-11e...|         2021-03-22|            7.0|               399.94|     71|\n",
      "|47d99768-30ea-11e...|         2019-08-04|            2.0|               304.89|    667|\n",
      "|f879c85e-5322-11e...|         2020-01-30|            1.0|               100.49|    488|\n",
      "|cfb38c70-b1e7-11e...|         2020-01-11|            3.0|   208.95999999999998|    507|\n",
      "|96cae10c-bbd1-11e...|         2020-07-01|            2.0|               359.96|    335|\n",
      "|20df63fa-5411-11e...|         2020-01-17|            1.0|                39.99|    501|\n",
      "|757fc81a-7378-11e...|         2021-03-26|            2.0|               630.94|     67|\n",
      "|c9fcbc34-d739-11e...|         2020-08-05|            1.0|               289.99|    300|\n",
      "|9f44ad8c-21fc-11e...|         2019-04-05|            1.0|               189.99|    788|\n",
      "|3fcf9680-9765-11e...|         2020-05-12|            1.0|                89.99|    385|\n",
      "+--------------------+-------------------+---------------+---------------------+-------+\n",
      "only showing top 20 rows\n",
      "\n"
     ]
    }
   ],
   "source": [
    "rfm = rfm.withColumn(\"Recency\", F.expr(\"datediff('2021-6-1',last_order_date_new)\"))\n",
    "rfm.show()"
   ]
  },
  {
   "cell_type": "markdown",
   "metadata": {},
   "source": [
    "### Step 4: Renaming"
   ]
  },
  {
   "cell_type": "code",
   "execution_count": 22,
   "metadata": {},
   "outputs": [],
   "source": [
    "rfm = rfm.withColumnRenamed(\"order_num_total\",\"Frequency\")\\\n",
    ".withColumnRenamed(\"customer_values_total\",\"Monetary\")"
   ]
  },
  {
   "cell_type": "code",
   "execution_count": 23,
   "metadata": {},
   "outputs": [
    {
     "data": {
      "text/plain": [
       "['master_id', 'last_order_date_new', 'Frequency', 'Monetary', 'Recency']"
      ]
     },
     "execution_count": 23,
     "metadata": {},
     "output_type": "execute_result"
    }
   ],
   "source": [
    "rfm.columns"
   ]
  },
  {
   "cell_type": "markdown",
   "metadata": {},
   "source": [
    "### Step 5: Filter"
   ]
  },
  {
   "cell_type": "code",
   "execution_count": 24,
   "metadata": {},
   "outputs": [
    {
     "data": {
      "text/plain": [
       "['master_id', 'Frequency', 'Monetary', 'Recency']"
      ]
     },
     "execution_count": 24,
     "metadata": {},
     "output_type": "execute_result"
    }
   ],
   "source": [
    "rfm = rfm.drop(\"last_order_date_new\")\n",
    "rfm.columns"
   ]
  },
  {
   "cell_type": "markdown",
   "metadata": {},
   "source": [
    "## Task 4: Model preparation"
   ]
  },
  {
   "cell_type": "markdown",
   "metadata": {},
   "source": [
    "### Step 1: Vector Assembler"
   ]
  },
  {
   "cell_type": "code",
   "execution_count": 25,
   "metadata": {},
   "outputs": [],
   "source": [
    "from pyspark.ml.feature import VectorAssembler"
   ]
  },
  {
   "cell_type": "code",
   "execution_count": 26,
   "metadata": {},
   "outputs": [],
   "source": [
    "rfm_cols = ['Frequency', 'Monetary', 'Recency']"
   ]
  },
  {
   "cell_type": "code",
   "execution_count": 27,
   "metadata": {},
   "outputs": [],
   "source": [
    "assembler = VectorAssembler()\\\n",
    ".setHandleInvalid(\"skip\") \\\n",
    ".setInputCols(rfm_cols)\\\n",
    ".setOutputCol(\"unscaled_features\")"
   ]
  },
  {
   "cell_type": "markdown",
   "metadata": {},
   "source": [
    "### Step 2: Standart Scaler"
   ]
  },
  {
   "cell_type": "code",
   "execution_count": 28,
   "metadata": {},
   "outputs": [],
   "source": [
    "from pyspark.ml.feature import StandardScaler"
   ]
  },
  {
   "cell_type": "code",
   "execution_count": 29,
   "metadata": {},
   "outputs": [],
   "source": [
    "scaler = StandardScaler() \\\n",
    ".setInputCol(\"unscaled_features\") \\\n",
    ".setOutputCol(\"features\")"
   ]
  },
  {
   "cell_type": "markdown",
   "metadata": {},
   "source": [
    "### Step 3: Pipeline"
   ]
  },
  {
   "cell_type": "code",
   "execution_count": 30,
   "metadata": {},
   "outputs": [],
   "source": [
    "from pyspark.ml import Pipeline"
   ]
  },
  {
   "cell_type": "code",
   "execution_count": 31,
   "metadata": {},
   "outputs": [],
   "source": [
    "pipeline_obj = Pipeline().setStages([assembler,scaler])"
   ]
  },
  {
   "cell_type": "code",
   "execution_count": 32,
   "metadata": {},
   "outputs": [],
   "source": [
    "pipeline_model = pipeline_obj.fit(rfm)"
   ]
  },
  {
   "cell_type": "code",
   "execution_count": 33,
   "metadata": {},
   "outputs": [],
   "source": [
    "pipeline_df = pipeline_model.transform(rfm)"
   ]
  },
  {
   "cell_type": "code",
   "execution_count": 34,
   "metadata": {},
   "outputs": [
    {
     "data": {
      "text/html": [
       "<div>\n",
       "<style scoped>\n",
       "    .dataframe tbody tr th:only-of-type {\n",
       "        vertical-align: middle;\n",
       "    }\n",
       "\n",
       "    .dataframe tbody tr th {\n",
       "        vertical-align: top;\n",
       "    }\n",
       "\n",
       "    .dataframe thead th {\n",
       "        text-align: right;\n",
       "    }\n",
       "</style>\n",
       "<table border=\"1\" class=\"dataframe\">\n",
       "  <thead>\n",
       "    <tr style=\"text-align: right;\">\n",
       "      <th></th>\n",
       "      <th>master_id</th>\n",
       "      <th>Frequency</th>\n",
       "      <th>Monetary</th>\n",
       "      <th>Recency</th>\n",
       "      <th>unscaled_features</th>\n",
       "      <th>features</th>\n",
       "    </tr>\n",
       "  </thead>\n",
       "  <tbody>\n",
       "    <tr>\n",
       "      <th>0</th>\n",
       "      <td>b3ace094-a17f-11e9-a2fc-000d3a38a36f</td>\n",
       "      <td>1.0</td>\n",
       "      <td>212.98</td>\n",
       "      <td>829</td>\n",
       "      <td>[1.0, 212.98, 829.0]</td>\n",
       "      <td>[0.32770120750468923, 0.4598810576445157, 3.24...</td>\n",
       "    </tr>\n",
       "    <tr>\n",
       "      <th>1</th>\n",
       "      <td>c57d7c4c-a950-11e9-a2fc-000d3a38a36f</td>\n",
       "      <td>1.0</td>\n",
       "      <td>199.98</td>\n",
       "      <td>548</td>\n",
       "      <td>[1.0, 199.98, 548.0]</td>\n",
       "      <td>[0.32770120750468923, 0.43181056393910344, 2.1...</td>\n",
       "    </tr>\n",
       "    <tr>\n",
       "      <th>2</th>\n",
       "      <td>602897a6-cdac-11ea-b31f-000d3a38a36f</td>\n",
       "      <td>1.0</td>\n",
       "      <td>140.49</td>\n",
       "      <td>312</td>\n",
       "      <td>[1.0, 140.49, 312.0]</td>\n",
       "      <td>[0.32770120750468923, 0.3033556662056438, 1.22...</td>\n",
       "    </tr>\n",
       "    <tr>\n",
       "      <th>3</th>\n",
       "      <td>388e4c4e-af86-11e9-a2fc-000d3a38a36f</td>\n",
       "      <td>1.0</td>\n",
       "      <td>174.99</td>\n",
       "      <td>883</td>\n",
       "      <td>[1.0, 174.99, 883.0]</td>\n",
       "      <td>[0.32770120750468923, 0.3778504379623148, 3.45...</td>\n",
       "    </tr>\n",
       "    <tr>\n",
       "      <th>4</th>\n",
       "      <td>80664354-adf0-11eb-8f64-000d3a299ebf</td>\n",
       "      <td>2.0</td>\n",
       "      <td>283.95</td>\n",
       "      <td>27</td>\n",
       "      <td>[2.0, 283.95, 27.0]</td>\n",
       "      <td>[0.6554024150093785, 0.613124360588601, 0.1057...</td>\n",
       "    </tr>\n",
       "  </tbody>\n",
       "</table>\n",
       "</div>"
      ],
      "text/plain": [
       "                              master_id  Frequency  Monetary  Recency  \\\n",
       "0  b3ace094-a17f-11e9-a2fc-000d3a38a36f        1.0    212.98      829   \n",
       "1  c57d7c4c-a950-11e9-a2fc-000d3a38a36f        1.0    199.98      548   \n",
       "2  602897a6-cdac-11ea-b31f-000d3a38a36f        1.0    140.49      312   \n",
       "3  388e4c4e-af86-11e9-a2fc-000d3a38a36f        1.0    174.99      883   \n",
       "4  80664354-adf0-11eb-8f64-000d3a299ebf        2.0    283.95       27   \n",
       "\n",
       "      unscaled_features                                           features  \n",
       "0  [1.0, 212.98, 829.0]  [0.32770120750468923, 0.4598810576445157, 3.24...  \n",
       "1  [1.0, 199.98, 548.0]  [0.32770120750468923, 0.43181056393910344, 2.1...  \n",
       "2  [1.0, 140.49, 312.0]  [0.32770120750468923, 0.3033556662056438, 1.22...  \n",
       "3  [1.0, 174.99, 883.0]  [0.32770120750468923, 0.3778504379623148, 3.45...  \n",
       "4   [2.0, 283.95, 27.0]  [0.6554024150093785, 0.613124360588601, 0.1057...  "
      ]
     },
     "execution_count": 34,
     "metadata": {},
     "output_type": "execute_result"
    }
   ],
   "source": [
    "pipeline_df.limit(5).toPandas()"
   ]
  },
  {
   "cell_type": "markdown",
   "metadata": {},
   "source": [
    "## Task 5: K-Means"
   ]
  },
  {
   "cell_type": "markdown",
   "metadata": {},
   "source": [
    "### Step 1: Optimum number of clusters"
   ]
  },
  {
   "cell_type": "code",
   "execution_count": 35,
   "metadata": {},
   "outputs": [],
   "source": [
    "from pyspark.ml.clustering import KMeans\n",
    "from pyspark.ml.evaluation import ClusteringEvaluator"
   ]
  },
  {
   "cell_type": "code",
   "execution_count": 36,
   "metadata": {},
   "outputs": [],
   "source": [
    "def compute_kmeans_model(df,k):\n",
    "    kmeans_obj = KMeans()\\\n",
    "    .setSeed(142)\\\n",
    "    .setK(k)\n",
    "    \n",
    "    return kmeans_obj.fit(df)"
   ]
  },
  {
   "cell_type": "code",
   "execution_count": 37,
   "metadata": {},
   "outputs": [],
   "source": [
    "evaluator = ClusteringEvaluator()"
   ]
  },
  {
   "cell_type": "code",
   "execution_count": 38,
   "metadata": {},
   "outputs": [
    {
     "name": "stdout",
     "output_type": "stream",
     "text": [
      "k:2  - score:0.4403139929816374\n",
      "k:3  - score:0.655033488104594\n",
      "k:4  - score:0.6658979549823151\n",
      "k:5  - score:0.6777415637605754\n",
      "k:6  - score:0.5104147694093093\n",
      "k:7  - score:0.6780801245958924\n",
      "k:8  - score:0.6494848988252858\n",
      "k:9  - score:0.5039729078361186\n",
      "k:10  - score:0.5132605636800477\n",
      "k:11  - score:0.5526101794299998\n"
     ]
    }
   ],
   "source": [
    "for k in range(2,12):\n",
    "    \n",
    "    kmeans_model = compute_kmeans_model(pipeline_df,k)\n",
    "    \n",
    "    transformed_df = kmeans_model.transform(pipeline_df)\n",
    "    \n",
    "    score = evaluator.evaluate(transformed_df)\n",
    "    \n",
    "    print(f\"k:{k}  - score:{score}\")"
   ]
  },
  {
   "cell_type": "markdown",
   "metadata": {},
   "source": [
    "### Step 2: Final Model"
   ]
  },
  {
   "cell_type": "code",
   "execution_count": 39,
   "metadata": {},
   "outputs": [],
   "source": [
    "kmeans_model = compute_kmeans_model(pipeline_df,7)"
   ]
  },
  {
   "cell_type": "code",
   "execution_count": 40,
   "metadata": {},
   "outputs": [],
   "source": [
    "# Prediction\n",
    "\n",
    "transformed_df = kmeans_model.transform(pipeline_df)"
   ]
  },
  {
   "cell_type": "code",
   "execution_count": 41,
   "metadata": {},
   "outputs": [
    {
     "data": {
      "text/html": [
       "<div>\n",
       "<style scoped>\n",
       "    .dataframe tbody tr th:only-of-type {\n",
       "        vertical-align: middle;\n",
       "    }\n",
       "\n",
       "    .dataframe tbody tr th {\n",
       "        vertical-align: top;\n",
       "    }\n",
       "\n",
       "    .dataframe thead th {\n",
       "        text-align: right;\n",
       "    }\n",
       "</style>\n",
       "<table border=\"1\" class=\"dataframe\">\n",
       "  <thead>\n",
       "    <tr style=\"text-align: right;\">\n",
       "      <th></th>\n",
       "      <th>master_id</th>\n",
       "      <th>Frequency</th>\n",
       "      <th>Monetary</th>\n",
       "      <th>Recency</th>\n",
       "      <th>unscaled_features</th>\n",
       "      <th>features</th>\n",
       "      <th>prediction</th>\n",
       "    </tr>\n",
       "  </thead>\n",
       "  <tbody>\n",
       "    <tr>\n",
       "      <th>0</th>\n",
       "      <td>b3ace094-a17f-11e9-a2fc-000d3a38a36f</td>\n",
       "      <td>1.0</td>\n",
       "      <td>212.98</td>\n",
       "      <td>829</td>\n",
       "      <td>[1.0, 212.98, 829.0]</td>\n",
       "      <td>[0.32770120750468923, 0.4598810576445157, 3.24...</td>\n",
       "      <td>1</td>\n",
       "    </tr>\n",
       "    <tr>\n",
       "      <th>1</th>\n",
       "      <td>c57d7c4c-a950-11e9-a2fc-000d3a38a36f</td>\n",
       "      <td>1.0</td>\n",
       "      <td>199.98</td>\n",
       "      <td>548</td>\n",
       "      <td>[1.0, 199.98, 548.0]</td>\n",
       "      <td>[0.32770120750468923, 0.43181056393910344, 2.1...</td>\n",
       "      <td>1</td>\n",
       "    </tr>\n",
       "    <tr>\n",
       "      <th>2</th>\n",
       "      <td>602897a6-cdac-11ea-b31f-000d3a38a36f</td>\n",
       "      <td>1.0</td>\n",
       "      <td>140.49</td>\n",
       "      <td>312</td>\n",
       "      <td>[1.0, 140.49, 312.0]</td>\n",
       "      <td>[0.32770120750468923, 0.3033556662056438, 1.22...</td>\n",
       "      <td>0</td>\n",
       "    </tr>\n",
       "    <tr>\n",
       "      <th>3</th>\n",
       "      <td>388e4c4e-af86-11e9-a2fc-000d3a38a36f</td>\n",
       "      <td>1.0</td>\n",
       "      <td>174.99</td>\n",
       "      <td>883</td>\n",
       "      <td>[1.0, 174.99, 883.0]</td>\n",
       "      <td>[0.32770120750468923, 0.3778504379623148, 3.45...</td>\n",
       "      <td>1</td>\n",
       "    </tr>\n",
       "    <tr>\n",
       "      <th>4</th>\n",
       "      <td>80664354-adf0-11eb-8f64-000d3a299ebf</td>\n",
       "      <td>2.0</td>\n",
       "      <td>283.95</td>\n",
       "      <td>27</td>\n",
       "      <td>[2.0, 283.95, 27.0]</td>\n",
       "      <td>[0.6554024150093785, 0.613124360588601, 0.1057...</td>\n",
       "      <td>0</td>\n",
       "    </tr>\n",
       "  </tbody>\n",
       "</table>\n",
       "</div>"
      ],
      "text/plain": [
       "                              master_id  Frequency  Monetary  Recency  \\\n",
       "0  b3ace094-a17f-11e9-a2fc-000d3a38a36f        1.0    212.98      829   \n",
       "1  c57d7c4c-a950-11e9-a2fc-000d3a38a36f        1.0    199.98      548   \n",
       "2  602897a6-cdac-11ea-b31f-000d3a38a36f        1.0    140.49      312   \n",
       "3  388e4c4e-af86-11e9-a2fc-000d3a38a36f        1.0    174.99      883   \n",
       "4  80664354-adf0-11eb-8f64-000d3a299ebf        2.0    283.95       27   \n",
       "\n",
       "      unscaled_features                                           features  \\\n",
       "0  [1.0, 212.98, 829.0]  [0.32770120750468923, 0.4598810576445157, 3.24...   \n",
       "1  [1.0, 199.98, 548.0]  [0.32770120750468923, 0.43181056393910344, 2.1...   \n",
       "2  [1.0, 140.49, 312.0]  [0.32770120750468923, 0.3033556662056438, 1.22...   \n",
       "3  [1.0, 174.99, 883.0]  [0.32770120750468923, 0.3778504379623148, 3.45...   \n",
       "4   [2.0, 283.95, 27.0]  [0.6554024150093785, 0.613124360588601, 0.1057...   \n",
       "\n",
       "   prediction  \n",
       "0           1  \n",
       "1           1  \n",
       "2           0  \n",
       "3           1  \n",
       "4           0  "
      ]
     },
     "execution_count": 41,
     "metadata": {},
     "output_type": "execute_result"
    }
   ],
   "source": [
    "transformed_df.limit(5).toPandas()"
   ]
  },
  {
   "cell_type": "markdown",
   "metadata": {},
   "source": [
    "### Step 3 : Descriptive statistics"
   ]
  },
  {
   "cell_type": "code",
   "execution_count": 42,
   "metadata": {},
   "outputs": [
    {
     "name": "stdout",
     "output_type": "stream",
     "text": [
      "+----------+-----+------------------+------------------+------------------+\n",
      "|prediction|count|      avg_monetary|       avg_recency|     avg_frequency|\n",
      "+----------+-----+------------------+------------------+------------------+\n",
      "|         6|    2|44160.100000000006|             629.0|             337.0|\n",
      "|         5|    6|21260.864999999998|             223.5|150.16666666666666|\n",
      "|         2|   58| 6210.019655172414|190.31034482758622| 44.86206896551724|\n",
      "|         4| 1243| 2249.367779565568|188.83588093322606|13.729686242960579|\n",
      "|         3| 9554| 841.2370232363438|191.11953108645594| 5.167050450073268|\n",
      "|         0|36205|235.98326419006816|179.86767021129677|1.6333931777378816|\n",
      "|         1|52932|174.87422202077803| 619.1671011864279|1.4147018816594876|\n",
      "+----------+-----+------------------+------------------+------------------+\n",
      "\n"
     ]
    }
   ],
   "source": [
    "transformed_df.groupBy(\"prediction\").agg(F.count(\"Monetary\").alias(\"count\"),\n",
    "                                        F.mean(\"Monetary\").alias(\"avg_monetary\"),\n",
    "                                        F.mean(\"Recency\").alias(\"avg_recency\"),\n",
    "                                        F.mean(\"Frequency\").alias(\"avg_frequency\")).sort(F.desc(\"avg_monetary\")).show()"
   ]
  },
  {
   "cell_type": "code",
   "execution_count": 43,
   "metadata": {},
   "outputs": [],
   "source": [
    "spark.stop()"
   ]
  },
  {
   "cell_type": "code",
   "execution_count": null,
   "metadata": {},
   "outputs": [],
   "source": []
  }
 ],
 "metadata": {
  "kernelspec": {
   "display_name": "venvspark",
   "language": "python",
   "name": "venvspark"
  },
  "language_info": {
   "codemirror_mode": {
    "name": "ipython",
    "version": 3
   },
   "file_extension": ".py",
   "mimetype": "text/x-python",
   "name": "python",
   "nbconvert_exporter": "python",
   "pygments_lexer": "ipython3",
   "version": "3.6.8"
  }
 },
 "nbformat": 4,
 "nbformat_minor": 4
}
